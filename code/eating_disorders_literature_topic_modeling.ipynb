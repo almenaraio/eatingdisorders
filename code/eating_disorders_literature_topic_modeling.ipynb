{
 "cells": [
  {
   "cell_type": "markdown",
   "metadata": {},
   "source": [
    "<b>40 years of research on eating disorders: Bibliometrics, network analysis, and topic modeling</b>\n",
    "<br><a href='https://github.com/almenaraio'>Carlos A. Almenara</a>, Feb-2021\n",
    "<br>(Python code based on multiple sources)"
   ]
  },
  {
   "cell_type": "code",
   "execution_count": 1,
   "metadata": {
    "scrolled": true
   },
   "outputs": [],
   "source": [
    "import os\n",
    "import pickle\n",
    "from pprint import pprint\n",
    "\n",
    "import pandas as pd\n",
    "import numpy as np\n",
    "\n",
    "import spacy\n",
    "from spacy.lang.en.stop_words import STOP_WORDS\n",
    "import en_core_sci_lg # To import AllenAI scispaCy model you must download it first\n",
    "\n",
    "import gensim\n",
    "from gensim.utils import simple_preprocess\n",
    "from gensim.models import CoherenceModel, LdaModel, LsiModel, HdpModel, nmf\n",
    "from gensim.models.phrases import Phrases, Phraser\n",
    "from gensim.corpora import Dictionary\n",
    "\n",
    "import sklearn\n",
    "from sklearn.feature_extraction.text import TfidfVectorizer\n",
    "from sklearn.feature_extraction.text import CountVectorizer\n",
    "from sklearn.decomposition import LatentDirichletAllocation\n",
    "from sklearn.decomposition import NMF, TruncatedSVD # decomposition for LSA\n",
    "from sklearn.model_selection import GridSearchCV\n",
    "\n",
    "import matplotlib.pyplot as plt\n",
    "%matplotlib inline"
   ]
  },
  {
   "cell_type": "code",
   "execution_count": 2,
   "metadata": {},
   "outputs": [],
   "source": [
    "# Set working directory\n",
    "os.chdir('C:/temp/eating')"
   ]
  },
  {
   "cell_type": "code",
   "execution_count": 3,
   "metadata": {},
   "outputs": [],
   "source": [
    "# Loading our collection of records gathered from Scopus\n",
    "\"\"\"\n",
    "NOTE: Due to copyright is not possible to share this dataset\n",
    "To replicate the download of this dataset read the procedure in the paper\n",
    "and follow these instructions:\n",
    "https://www.bibliometrix.org/vignettes/Introduction_to_bibliometrix.html\n",
    "\"\"\"\n",
    "df = pd.read_csv('eating_disorders_literature.csv') # dtype={'DOI': str, 'Pubmed ID': str})"
   ]
  },
  {
   "cell_type": "code",
   "execution_count": 4,
   "metadata": {},
   "outputs": [
    {
     "data": {
      "text/html": [
       "<div>\n",
       "<style scoped>\n",
       "    .dataframe tbody tr th:only-of-type {\n",
       "        vertical-align: middle;\n",
       "    }\n",
       "\n",
       "    .dataframe tbody tr th {\n",
       "        vertical-align: top;\n",
       "    }\n",
       "\n",
       "    .dataframe thead th {\n",
       "        text-align: right;\n",
       "    }\n",
       "</style>\n",
       "<table border=\"1\" class=\"dataframe\">\n",
       "  <thead>\n",
       "    <tr style=\"text-align: right;\">\n",
       "      <th></th>\n",
       "      <th>Authors</th>\n",
       "      <th>Author(s) ID</th>\n",
       "      <th>Title</th>\n",
       "      <th>Year</th>\n",
       "      <th>Source title</th>\n",
       "      <th>Volume</th>\n",
       "      <th>Issue</th>\n",
       "      <th>Art. No.</th>\n",
       "      <th>Page start</th>\n",
       "      <th>Page end</th>\n",
       "      <th>...</th>\n",
       "      <th>Language of Original Document</th>\n",
       "      <th>Abbreviated Source Title</th>\n",
       "      <th>Document Type</th>\n",
       "      <th>Publication Stage</th>\n",
       "      <th>Access Type</th>\n",
       "      <th>Source</th>\n",
       "      <th>EID</th>\n",
       "      <th>Funding Text 4</th>\n",
       "      <th>Funding Text 5</th>\n",
       "      <th>Funding Text 6</th>\n",
       "    </tr>\n",
       "  </thead>\n",
       "  <tbody>\n",
       "    <tr>\n",
       "      <th>0</th>\n",
       "      <td>Smith K.E., Mason T.B., Juarascio A., Weinbach...</td>\n",
       "      <td>55507492500;56168408500;35753736200;5026340640...</td>\n",
       "      <td>The momentary interplay of affect, attention b...</td>\n",
       "      <td>2020</td>\n",
       "      <td>International Journal of Eating Disorders</td>\n",
       "      <td>53.0</td>\n",
       "      <td>4.0</td>\n",
       "      <td>NaN</td>\n",
       "      <td>586.0</td>\n",
       "      <td>594.0</td>\n",
       "      <td>...</td>\n",
       "      <td>English</td>\n",
       "      <td>Int. J. Eating Disord.</td>\n",
       "      <td>Article</td>\n",
       "      <td>Final</td>\n",
       "      <td>NaN</td>\n",
       "      <td>Scopus</td>\n",
       "      <td>2-s2.0-85083535660</td>\n",
       "      <td>NaN</td>\n",
       "      <td>NaN</td>\n",
       "      <td>NaN</td>\n",
       "    </tr>\n",
       "    <tr>\n",
       "      <th>1</th>\n",
       "      <td>Van Huysse J.L., Smith K., Mammel K.A., Prohas...</td>\n",
       "      <td>57211692842;57211683813;6507569120;57216448773...</td>\n",
       "      <td>Early weight gain predicts treatment response ...</td>\n",
       "      <td>2020</td>\n",
       "      <td>International Journal of Eating Disorders</td>\n",
       "      <td>53.0</td>\n",
       "      <td>4.0</td>\n",
       "      <td>NaN</td>\n",
       "      <td>606.0</td>\n",
       "      <td>610.0</td>\n",
       "      <td>...</td>\n",
       "      <td>English</td>\n",
       "      <td>Int. J. Eating Disord.</td>\n",
       "      <td>Article</td>\n",
       "      <td>Final</td>\n",
       "      <td>NaN</td>\n",
       "      <td>Scopus</td>\n",
       "      <td>2-s2.0-85083531378</td>\n",
       "      <td>NaN</td>\n",
       "      <td>NaN</td>\n",
       "      <td>NaN</td>\n",
       "    </tr>\n",
       "    <tr>\n",
       "      <th>2</th>\n",
       "      <td>Aulinas A., Marengi D.A., Galbiati F., Asanza ...</td>\n",
       "      <td>42560893700;55880518800;57215846471;5719529853...</td>\n",
       "      <td>Medical comorbidities and endocrine dysfunctio...</td>\n",
       "      <td>2020</td>\n",
       "      <td>International Journal of Eating Disorders</td>\n",
       "      <td>53.0</td>\n",
       "      <td>4.0</td>\n",
       "      <td>NaN</td>\n",
       "      <td>631.0</td>\n",
       "      <td>636.0</td>\n",
       "      <td>...</td>\n",
       "      <td>English</td>\n",
       "      <td>Int. J. Eating Disord.</td>\n",
       "      <td>Article</td>\n",
       "      <td>Final</td>\n",
       "      <td>NaN</td>\n",
       "      <td>Scopus</td>\n",
       "      <td>2-s2.0-85082032867</td>\n",
       "      <td>NaN</td>\n",
       "      <td>NaN</td>\n",
       "      <td>NaN</td>\n",
       "    </tr>\n",
       "    <tr>\n",
       "      <th>3</th>\n",
       "      <td>Mensinger J.L., Granche J.L., Cox S.A., Henret...</td>\n",
       "      <td>21834046800;57209779245;57214602781;24464002600;</td>\n",
       "      <td>Sexual and gender minority individuals report ...</td>\n",
       "      <td>2020</td>\n",
       "      <td>International Journal of Eating Disorders</td>\n",
       "      <td>53.0</td>\n",
       "      <td>4.0</td>\n",
       "      <td>NaN</td>\n",
       "      <td>541.0</td>\n",
       "      <td>554.0</td>\n",
       "      <td>...</td>\n",
       "      <td>English</td>\n",
       "      <td>Int. J. Eating Disord.</td>\n",
       "      <td>Article</td>\n",
       "      <td>Final</td>\n",
       "      <td>Open Access</td>\n",
       "      <td>Scopus</td>\n",
       "      <td>2-s2.0-85081724543</td>\n",
       "      <td>NaN</td>\n",
       "      <td>NaN</td>\n",
       "      <td>NaN</td>\n",
       "    </tr>\n",
       "    <tr>\n",
       "      <th>4</th>\n",
       "      <td>Zucker N.L., Bulik C.M.</td>\n",
       "      <td>8367933200;56827294000;</td>\n",
       "      <td>On bells, saliva, and abdominal pain or discom...</td>\n",
       "      <td>2020</td>\n",
       "      <td>International Journal of Eating Disorders</td>\n",
       "      <td>53.0</td>\n",
       "      <td>4.0</td>\n",
       "      <td>NaN</td>\n",
       "      <td>508.0</td>\n",
       "      <td>512.0</td>\n",
       "      <td>...</td>\n",
       "      <td>English</td>\n",
       "      <td>Int. J. Eating Disord.</td>\n",
       "      <td>Article</td>\n",
       "      <td>Final</td>\n",
       "      <td>NaN</td>\n",
       "      <td>Scopus</td>\n",
       "      <td>2-s2.0-85081575634</td>\n",
       "      <td>NaN</td>\n",
       "      <td>NaN</td>\n",
       "      <td>NaN</td>\n",
       "    </tr>\n",
       "  </tbody>\n",
       "</table>\n",
       "<p>5 rows × 41 columns</p>\n",
       "</div>"
      ],
      "text/plain": [
       "                                             Authors  \\\n",
       "0  Smith K.E., Mason T.B., Juarascio A., Weinbach...   \n",
       "1  Van Huysse J.L., Smith K., Mammel K.A., Prohas...   \n",
       "2  Aulinas A., Marengi D.A., Galbiati F., Asanza ...   \n",
       "3  Mensinger J.L., Granche J.L., Cox S.A., Henret...   \n",
       "4                            Zucker N.L., Bulik C.M.   \n",
       "\n",
       "                                        Author(s) ID  \\\n",
       "0  55507492500;56168408500;35753736200;5026340640...   \n",
       "1  57211692842;57211683813;6507569120;57216448773...   \n",
       "2  42560893700;55880518800;57215846471;5719529853...   \n",
       "3   21834046800;57209779245;57214602781;24464002600;   \n",
       "4                            8367933200;56827294000;   \n",
       "\n",
       "                                               Title  Year  \\\n",
       "0  The momentary interplay of affect, attention b...  2020   \n",
       "1  Early weight gain predicts treatment response ...  2020   \n",
       "2  Medical comorbidities and endocrine dysfunctio...  2020   \n",
       "3  Sexual and gender minority individuals report ...  2020   \n",
       "4  On bells, saliva, and abdominal pain or discom...  2020   \n",
       "\n",
       "                                Source title  Volume Issue Art. No.  \\\n",
       "0  International Journal of Eating Disorders    53.0   4.0      NaN   \n",
       "1  International Journal of Eating Disorders    53.0   4.0      NaN   \n",
       "2  International Journal of Eating Disorders    53.0   4.0      NaN   \n",
       "3  International Journal of Eating Disorders    53.0   4.0      NaN   \n",
       "4  International Journal of Eating Disorders    53.0   4.0      NaN   \n",
       "\n",
       "  Page start Page end  ...  Language of Original Document  \\\n",
       "0      586.0    594.0  ...                        English   \n",
       "1      606.0    610.0  ...                        English   \n",
       "2      631.0    636.0  ...                        English   \n",
       "3      541.0    554.0  ...                        English   \n",
       "4      508.0    512.0  ...                        English   \n",
       "\n",
       "   Abbreviated Source Title Document Type Publication Stage  Access Type  \\\n",
       "0    Int. J. Eating Disord.       Article             Final          NaN   \n",
       "1    Int. J. Eating Disord.       Article             Final          NaN   \n",
       "2    Int. J. Eating Disord.       Article             Final          NaN   \n",
       "3    Int. J. Eating Disord.       Article             Final  Open Access   \n",
       "4    Int. J. Eating Disord.       Article             Final          NaN   \n",
       "\n",
       "   Source                 EID Funding Text 4 Funding Text 5 Funding Text 6  \n",
       "0  Scopus  2-s2.0-85083535660            NaN            NaN            NaN  \n",
       "1  Scopus  2-s2.0-85083531378            NaN            NaN            NaN  \n",
       "2  Scopus  2-s2.0-85082032867            NaN            NaN            NaN  \n",
       "3  Scopus  2-s2.0-85081724543            NaN            NaN            NaN  \n",
       "4  Scopus  2-s2.0-85081575634            NaN            NaN            NaN  \n",
       "\n",
       "[5 rows x 41 columns]"
      ]
     },
     "execution_count": 4,
     "metadata": {},
     "output_type": "execute_result"
    }
   ],
   "source": [
    "df.head()"
   ]
  },
  {
   "cell_type": "code",
   "execution_count": 5,
   "metadata": {},
   "outputs": [
    {
     "name": "stdout",
     "output_type": "stream",
     "text": [
      "<class 'pandas.core.frame.DataFrame'>\n",
      "RangeIndex: 8651 entries, 0 to 8650\n",
      "Data columns (total 41 columns):\n",
      " #   Column                         Non-Null Count  Dtype  \n",
      "---  ------                         --------------  -----  \n",
      " 0   Authors                        8651 non-null   object \n",
      " 1   Author(s) ID                   8651 non-null   object \n",
      " 2   Title                          8651 non-null   object \n",
      " 3   Year                           8651 non-null   int64  \n",
      " 4   Source title                   8651 non-null   object \n",
      " 5   Volume                         8324 non-null   float64\n",
      " 6   Issue                          8324 non-null   object \n",
      " 7   Art. No.                       389 non-null    object \n",
      " 8   Page start                     7915 non-null   object \n",
      " 9   Page end                       7785 non-null   object \n",
      " 10  Page count                     1 non-null      float64\n",
      " 11  Cited by                       7560 non-null   float64\n",
      " 12  DOI                            8529 non-null   object \n",
      " 13  Link                           8651 non-null   object \n",
      " 14  Affiliations                   8459 non-null   object \n",
      " 15  Authors with affiliations      8618 non-null   object \n",
      " 16  Abstract                       8651 non-null   object \n",
      " 17  Author Keywords                5620 non-null   object \n",
      " 18  Index Keywords                 7626 non-null   object \n",
      " 19  Funding Details                949 non-null    object \n",
      " 20  Funding Text 1                 975 non-null    object \n",
      " 21  Funding Text 2                 125 non-null    object \n",
      " 22  Funding Text 3                 13 non-null     object \n",
      " 23  References                     8144 non-null   object \n",
      " 24  Correspondence Address         8468 non-null   object \n",
      " 25  Editors                        0 non-null      float64\n",
      " 26  Publisher                      3418 non-null   object \n",
      " 27  ISSN                           8651 non-null   object \n",
      " 28  ISBN                           0 non-null      float64\n",
      " 29  CODEN                          5208 non-null   object \n",
      " 30  PubMed ID                      6047 non-null   float64\n",
      " 31  Language of Original Document  8651 non-null   object \n",
      " 32  Abbreviated Source Title       8651 non-null   object \n",
      " 33  Document Type                  8649 non-null   object \n",
      " 34  Publication Stage              8651 non-null   object \n",
      " 35  Access Type                    585 non-null    object \n",
      " 36  Source                         8651 non-null   object \n",
      " 37  EID                            8651 non-null   object \n",
      " 38  Funding Text 4                 2 non-null      object \n",
      " 39  Funding Text 5                 1 non-null      object \n",
      " 40  Funding Text 6                 1 non-null      object \n",
      "dtypes: float64(6), int64(1), object(34)\n",
      "memory usage: 2.7+ MB\n"
     ]
    }
   ],
   "source": [
    "df.info()"
   ]
  },
  {
   "cell_type": "code",
   "execution_count": 6,
   "metadata": {},
   "outputs": [
    {
     "data": {
      "text/plain": [
       "count                        8651\n",
       "unique                       7899\n",
       "top       [No abstract available]\n",
       "freq                          752\n",
       "Name: Abstract, dtype: object"
      ]
     },
     "execution_count": 6,
     "metadata": {},
     "output_type": "execute_result"
    }
   ],
   "source": [
    "# Let's check for unique values\n",
    "df['Abstract'].describe(include='all')"
   ]
  },
  {
   "cell_type": "code",
   "execution_count": 7,
   "metadata": {},
   "outputs": [
    {
     "data": {
      "text/plain": [
       "count                                                  7899\n",
       "unique                                                 7899\n",
       "top       Objective: We investigated gene-environment in...\n",
       "freq                                                      1\n",
       "Name: Abstract, dtype: object"
      ]
     },
     "execution_count": 7,
     "metadata": {},
     "output_type": "execute_result"
    }
   ],
   "source": [
    "# Let's drop duplicated cells with the text: '[Abstract not available]'\n",
    "df.drop_duplicates(['Abstract'], inplace=True)\n",
    "df['Abstract'].describe(include='all')"
   ]
  },
  {
   "cell_type": "code",
   "execution_count": 8,
   "metadata": {},
   "outputs": [
    {
     "name": "stdout",
     "output_type": "stream",
     "text": [
      "<class 'pandas.core.frame.DataFrame'>\n",
      "Int64Index: 7899 entries, 0 to 8647\n",
      "Data columns (total 41 columns):\n",
      " #   Column                         Non-Null Count  Dtype  \n",
      "---  ------                         --------------  -----  \n",
      " 0   Authors                        7899 non-null   object \n",
      " 1   Author(s) ID                   7899 non-null   object \n",
      " 2   Title                          7899 non-null   object \n",
      " 3   Year                           7899 non-null   int64  \n",
      " 4   Source title                   7899 non-null   object \n",
      " 5   Volume                         7581 non-null   float64\n",
      " 6   Issue                          7581 non-null   object \n",
      " 7   Art. No.                       326 non-null    object \n",
      " 8   Page start                     7250 non-null   object \n",
      " 9   Page end                       7238 non-null   object \n",
      " 10  Page count                     1 non-null      float64\n",
      " 11  Cited by                       7244 non-null   float64\n",
      " 12  DOI                            7815 non-null   object \n",
      " 13  Link                           7899 non-null   object \n",
      " 14  Affiliations                   7879 non-null   object \n",
      " 15  Authors with affiliations      7895 non-null   object \n",
      " 16  Abstract                       7899 non-null   object \n",
      " 17  Author Keywords                5589 non-null   object \n",
      " 18  Index Keywords                 7100 non-null   object \n",
      " 19  Funding Details                926 non-null    object \n",
      " 20  Funding Text 1                 948 non-null    object \n",
      " 21  Funding Text 2                 124 non-null    object \n",
      " 22  Funding Text 3                 13 non-null     object \n",
      " 23  References                     7763 non-null   object \n",
      " 24  Correspondence Address         7851 non-null   object \n",
      " 25  Editors                        0 non-null      float64\n",
      " 26  Publisher                      3196 non-null   object \n",
      " 27  ISSN                           7899 non-null   object \n",
      " 28  ISBN                           0 non-null      float64\n",
      " 29  CODEN                          4834 non-null   object \n",
      " 30  PubMed ID                      5799 non-null   float64\n",
      " 31  Language of Original Document  7899 non-null   object \n",
      " 32  Abbreviated Source Title       7899 non-null   object \n",
      " 33  Document Type                  7897 non-null   object \n",
      " 34  Publication Stage              7899 non-null   object \n",
      " 35  Access Type                    484 non-null    object \n",
      " 36  Source                         7899 non-null   object \n",
      " 37  EID                            7899 non-null   object \n",
      " 38  Funding Text 4                 2 non-null      object \n",
      " 39  Funding Text 5                 1 non-null      object \n",
      " 40  Funding Text 6                 1 non-null      object \n",
      "dtypes: float64(6), int64(1), object(34)\n",
      "memory usage: 2.5+ MB\n"
     ]
    }
   ],
   "source": [
    "# Removing NaNs (if any)\n",
    "# implace=True to keep the df with valid entries in the same variable.\n",
    "df.dropna(subset=['Abstract'], inplace=True)\n",
    "df.info()"
   ]
  },
  {
   "cell_type": "markdown",
   "metadata": {},
   "source": [
    "NATURAL LANGUAGE PROCESSING (NLP)"
   ]
  },
  {
   "cell_type": "code",
   "execution_count": 9,
   "metadata": {},
   "outputs": [],
   "source": [
    "# scispaCy - We will use AllenAI 'en_core_sci_lg' model\n",
    "nlp = en_core_sci_lg.load()\n",
    "nlp.max_length = 100000000"
   ]
  },
  {
   "cell_type": "code",
   "execution_count": 10,
   "metadata": {},
   "outputs": [
    {
     "name": "stdout",
     "output_type": "stream",
     "text": [
      "['’ve', 'next', 'on', 'me', 'never', 'beforehand', 'rather', 'at', 'is', 'noone', 'so', \"n't\", 'ourselves', 'up', 'about', 'i', 'anyone', 'eight', 'how', 'unless', 'last', 'somehow', 'enough', 'least', 'whoever', 'becomes', 'our', 'three', \"'d\", '‘d', 'except', 'some', 'sometimes', \"'s\", 'n’t', 'no', 'above', 'once', 'whenever', 'whether', 'already', 'another', 'since', 'somewhere', 'than', 'it', 'none', 'or', 'namely', 'done', 'became', 'whither', 'against', 'nor', 'n‘t', 'four', 'their', 'anywhere', '’re', 'nowhere', 'due', 'using', 'although', 'her', 'over', 'there', 'within', 'get', 'mostly', \"'ve\", 'was', 'behind', 'show', 'its', '’s', 'whereby', 'almost', 'anyway', 'either', 'ca', 'whence', 'whereupon', 'nevertheless', 'whom', 'latter', 'though', 'sometime', 'to', 'see', 'used', 'every', '’d', 'around', 'few', 'for', 'even', 'seemed', 'part', 'own', 'former', 'made', 'when', 'yours', 'between', '‘ll', 'something', 'from', 'elsewhere', \"'m\", 'ten', 'everything', 'in', 'that', 'most', 'take', 'upon', 'hence', 'forty', 'doing', 'whereas', 'an', 'one', 'does', 'very', 'without', 'have', 'two', 'formerly', 'those', 'a', 'many', 'anyhow', 'call', 'seeming', 'becoming', 'down', 'thus', 'while', 'someone', 'the', 'as', 'therein', 'yet', 'say', 'perhaps', 'others', 'among', 'always', 'sixty', 'six', 'five', 'she', 'yourself', 'through', 'are', 'itself', 'still', 'meanwhile', 'could', 'alone', 'throughout', 'quite', 'indeed', 'amongst', 'just', 'under', 'hereby', 'twelve', 'both', 'cannot', 'much', 'thereby', 'this', 'also', 'name', 'beyond', 'side', 'here', 'only', 'please', 'am', 'yourselves', 'everywhere', 'what', 'not', 'herein', 'mine', 'first', 'whose', 'towards', 'beside', 'whereafter', 'whole', 'had', 'may', 'which', 'put', 'amount', 'these', '‘s', 'back', 'must', 'now', 'before', 'latterly', 'can', 'hundred', 'again', 'per', 'hereafter', 'however', 'has', 'and', '‘m', 'fifty', 'out', 'give', 'regarding', 'besides', \"'ll\", 'nothing', 'whatever', 'wherein', 'full', 'until', 'nine', 'should', 'they', 'too', 'you', 'being', 'less', 'therefore', 'into', 'often', 'seems', 'because', 'along', 'be', 'been', 'afterwards', 're', 'twenty', 'fifteen', 'third', 'otherwise', 'move', 'them', 'really', 'below', 'same', 'will', 'further', 'together', 'each', 'onto', 'empty', 'him', 'various', 'with', 'but', 'where', 'neither', 'after', 'might', \"'re\", 'off', 'serious', 'we', 'thence', 'nobody', 'myself', 'thru', 'across', 'top', 'he', 'why', 'if', 'thereupon', 'of', 'any', 'keep', 'your', 'hereupon', 'make', '’ll', 'during', 'thereafter', 'moreover', 'front', '‘re', 'become', 'all', 'seem', 'ours', 'herself', 'toward', 'eleven', 'my', 'several', 'everyone', 'anything', '’m', '‘ve', 'his', 'more', 'wherever', 'then', 'via', 'would', 'other', 'who', 'hers', 'did', 'well', 'bottom', 'else', 'ever', 'themselves', 'himself', 'such', 'do', 'go', 'us', 'by', 'were', 'doi', 'inc', 'pmc', 'www', 'ltd', 'fig', 'llc', 'org', 'https', 'et', 'al', 'peer', 'sons', 'license', 'rights', 'reserved', 'permission', 'copyright', 'john', 'wiley', 'elsevier', 'periodicals', 'preprint', 'reviewed', 'author', 'reviewabstract', 'background', 'purpose', 'objective', 'available', 'study', 'research', 'figure', 'literature', 'american', 'association', 'company', 'version', 'taylor', 'francis', 'springer', 'switzerland', 'international', 'published', 'publishing', 'editrice', 'kurtis', 'chinese', 'italian', 'portuguese', 'objectivethe', 'objectivethis']\n"
     ]
    }
   ],
   "source": [
    "# STOPWORDS: spaCy + Custom \n",
    "stopwords = list(STOP_WORDS)\n",
    "custom_stop_words = [\n",
    "                   'doi', 'inc', 'pmc', 'www', 'ltd', 'fig', 'llc',\n",
    "                   'org', 'https', 'et', 'al', 'peer', 'sons',\n",
    "                   'used', 'using', 'license', 'rights', 'reserved', \n",
    "                   'permission', 'copyright', 'john', 'wiley', 'elsevier',\n",
    "                   'periodicals', 'preprint', 'reviewed', 'author', 'review'\n",
    "                   'abstract', 'background', 'purpose', 'objective',  \n",
    "                   'available', 'study', 'research', 'figure', 'literature',             \n",
    "                   'american', 'association', 'company', 'version', 'taylor',\n",
    "                   'francis', 'springer', 'switzerland', 'international', \n",
    "                   'published', 'publishing', 'editrice', 'kurtis', \n",
    "                   'chinese', 'italian', 'portuguese',  \n",
    "                   'objectivethe', 'objectivethis'\n",
    "                    ]\n",
    "\n",
    "for w in custom_stop_words:\n",
    "    if w not in stopwords:\n",
    "        stopwords.append(w)\n",
    "print(stopwords)"
   ]
  },
  {
   "cell_type": "code",
   "execution_count": 11,
   "metadata": {},
   "outputs": [
    {
     "data": {
      "text/plain": [
       "[\"Objective: Affect regulation, eating expectancies, and attention toward food-related cues are interrelated constructs that have been implicated in the maintenance of binge eating. While these processes show considerable temporal variability, the momentary associations between these domains have not been elucidated. This study examined a model that posited momentary fluctuations in affect, eating expectancies, and attention bias (AB) would interact to predict subsequent binge eating. Method: Forty women who endorsed recurrent binge eating completed a 10-day ecological momentary assessment protocol with ambulatory measures of AB (i.e., dot-probe task with palatable food and neutral cues) and self-report assessments of positive and negative affect, eating expectancies (i.e., the belief that eating would improve one's mood), and binge-eating symptoms. Results: Generalized linear mixed models indicated higher momentary AB toward palatable food was associated with increased risk of subsequent binge eating, and a two-way interaction showed that moments of higher eating expectancies and negative affect were associated with increased likelihood of subsequent binge eating. Also, a three-way interaction emerged, in that the association between eating expectancies and subsequent binge eating was strongest at lower levels of positive affect and higher AB. Discussion: Together, findings partially supported hypotheses and demonstrate meaningful within-person fluctuations in AB that precede binge eating. Further, results demonstrate that the momentary influence of eating expectancies on binge eating depends on both affective state and attentional processes.\",\n",
       " 'Objective: Improved treatment outcome in family-based treatment (FBT) for anorexia nervosa (AN) is predicted by weight gain occurring early in the course of treatment (i.e., about 4 lbs by week 4). Although prior work suggests that early weight gain in higher levels of care (e.g., partial hospitalization programs [PHP]) predicts weight restoration at discharge, no study has examined the specific rate of gain within FBT-informed PHP programs that best predicts treatment response. Method: This study examined rate of weight gain in pounds and percent expected body weight (EBW) that predicts positive outcome in 70 patients (M age = 15.49 years, SD = 2.56) with AN who were enrolled in a family-based PHP. Results: Receiver operator characteristic analyses demonstrated that changes in %EBW during weeks 2–5 were more useful than changes in weight in predicting positive outcome. Gaining at least 8.9 pounds or over 8% of EBW in the first 4 weeks of treatment significantly predicted positive outcome. Discussion: Findings suggest that positive outcome in an FBT-informed PHP is predicted by rapid weight gain in the initial weeks of treatment. Research is needed to identify specific family and patient characteristics that facilitate weight gain and to develop corresponding interventions to improve outcome.',\n",
       " 'Objective: To improve our understanding of medical complications and endocrine alterations in patients with low-weight avoidant/restrictive food intake disorder (ARFID) and how they may differ from those in anorexia nervosa (AN) and healthy controls (HC). Method: We performed an exploratory cross-sectional study comparing low-weight females with ARFID (n = 20) with females with AN (n = 42) and HC (n = 49) with no history of an eating disorder. Results: We found substantial overlap in medical comorbidities and endocrine features in ARFID and AN, but with earlier onset of aberrant eating behaviors in ARFID. We also observed distinct medical and endocrine alterations in ARFID compared to AN, such as a greater prevalence of asthma, a lower number of menses missed in the preceding 9 months, higher total T3 levels, and lower total T4 : total T3 ratio; these differences persisted after adjusting for age and might reflect differences in pathophysiology, acuity of weight fluctuations, and/or nutritional composition of food consumed. Conclusion: These results highlight the need for prompt diagnosis and intensive therapeutic intervention from disease onset in ARFID.',\n",
       " 'Eating disorders (EDs) occur at higher rates among sexual/gender minorities (SGMs). We currently know little about the risk factor profile of SGMs entering ED specialty care. Objective: To (a) compare history of abuse-related risk in SGMs to cisgender heterosexuals (CHs) when entering treatment, (b) determine if SGMs enter and exit treatment with more severe ED symptoms than CHs, and (c) determine if SGMs have different rates of improvement in ED symptoms during treatment compared to CHs. Method: We analyzed data from 2,818 individuals treated at a large, US-based, ED center, 471 (17%) of whom identified as SGM. Objective 1 was tested using logistic regression and Objectives 2 and 3 used mixed-effects models. Results: SGMs had higher prevalence of sexual abuse (OR = 2.10, 95% CI = 1.71, 2.58), other trauma (e.g., verbal/physical/emotional abuse; OR = 2.07, 95% CI = 1.68, 2.54), and bullying (OR = 2.13, 95% CI = 1.73, 2.62) histories. SGMs had higher global EDE-Q scores than CHs at admission (γ = 0.42, SE = 0.08, p <.001) but improved faster early in treatment (γ = 0.316, SE = 0.12, p =.008). By discharge, EDE-Q scores did not differ between SGMs and CHs. Discussion: Our main hypothesis of greater abuse histories among SGMs was supported and could be one explanation of their more severe ED symptoms at treatment admission compared to CHs. In addition, elevated symptom severity in SGMs at admission coincides with greater delay between ED onset and treatment initiation among SGMs—possibly a consequence of difficulties with ED recognition in SGMs by healthcare providers. We recommend increased training for providers on identifying EDs in SGMs to reduce barriers to early intervention.',\n",
       " \"Gastrointestinal (GI) symptoms are common in anorexia nervosa (AN), can predate illness onset, complicate renourishment, and persist after recovery. We explore how, through processes of aversive visceral conditioning, early GI pain and discomfort may increase vulnerability to AN in some individuals. Processes include enhanced preoccupation with the gut resulting from aversive visceral memories and disruptions in the typical acquisition of self-attunement when children learn to map and interpret interoceptive sensations and develop adaptive actions. We question whether a fear of weight gain, in some cases, may be an epiphenomenon of the recapitulation of actual or perceived GI symptoms that is especially relevant during puberty, especially in girls. This conceptualization has immediate clinical implications and offers ideas for future research. We propose that GI discomfort associated with renourishment may reignite prior aversive visceral experiences. We encourage development of a formulation that organizes the individual's current experience of the body with respect to these prior aversive experiences. Our conceptualization underscores the importance of assessment of GI experiences in individuals with AN; the examination of dietary strategies that minimize GI symptoms and enhance renourishment efficacy; and strategies that attempt to alter this aversive visceral conditioning by mapping sensations to meanings and adaptive actions.\"]"
      ]
     },
     "execution_count": 11,
     "metadata": {},
     "output_type": "execute_result"
    }
   ],
   "source": [
    "data = (df['Abstract'].to_list())\n",
    "data[:5]"
   ]
  },
  {
   "cell_type": "code",
   "execution_count": 12,
   "metadata": {},
   "outputs": [],
   "source": [
    "# Define functions for simple preprocessing, stopwords, bigrams, trigrams and lemmatization\n",
    "def sent_to_words(sentences):\n",
    "    for sentence in sentences:\n",
    "        yield(gensim.utils.simple_preprocess(str(sentence), deacc=True))  # deacc=True removes punctuations\n",
    "\n",
    "# Creating a list of lists\n",
    "data_words = list(sent_to_words(data))\n",
    "\n",
    "def remove_stopwords(texts):\n",
    "    return [[word for word in simple_preprocess(str(doc)) if word not in stopwords] for doc in texts]\n",
    "\n",
    "def make_bigrams(texts):\n",
    "    return [bigram_mod[doc] for doc in texts]\n",
    "\n",
    "def make_trigrams(texts):\n",
    "    return [trigram_mod[bigram_mod[doc]] for doc in texts]\n",
    "\n",
    "def lemmatization(texts, allowed_postags=['NOUN', 'ADJ', 'VERB', 'ADV']):\n",
    "    texts_out = []\n",
    "    for sent in texts:\n",
    "        doc = nlp(\" \".join(sent)) \n",
    "        texts_out.append([token.lemma_ for token in doc if token.pos_ in allowed_postags])\n",
    "    return texts_out"
   ]
  },
  {
   "cell_type": "code",
   "execution_count": 13,
   "metadata": {},
   "outputs": [],
   "source": [
    "# Building bigram and trigram models (the higher the threshold the fewer the phrases)\n",
    "bigram = Phrases(data_words, min_count=5, threshold=100)\n",
    "trigram = Phrases(bigram[data_words], threshold=100)  \n",
    "\n",
    "# This is a fast way to get a sentence clubbed as a trigram/bigram\n",
    "bigram_mod = Phraser(bigram)\n",
    "trigram_mod = Phraser(trigram)"
   ]
  },
  {
   "cell_type": "code",
   "execution_count": 14,
   "metadata": {},
   "outputs": [
    {
     "name": "stdout",
     "output_type": "stream",
     "text": [
      "['objective', 'affect_regulation', 'eating', 'expectancies', 'and', 'attention', 'toward', 'food', 'related', 'cues', 'are', 'interrelated', 'constructs', 'that', 'have', 'been', 'implicated', 'in', 'the', 'maintenance', 'of', 'binge', 'eating', 'while', 'these', 'processes', 'show', 'considerable', 'temporal', 'variability', 'the', 'momentary', 'associations', 'between', 'these', 'domains', 'have', 'not', 'been', 'elucidated', 'this', 'study', 'examined', 'model', 'that', 'posited', 'momentary', 'fluctuations', 'in', 'affect', 'eating', 'expectancies', 'and', 'attention', 'bias', 'ab', 'would', 'interact', 'to', 'predict', 'subsequent', 'binge', 'eating', 'method', 'forty', 'women', 'who', 'endorsed', 'recurrent', 'binge', 'eating', 'completed', 'day', 'ecological_momentary_assessment', 'protocol', 'with', 'ambulatory', 'measures', 'of', 'ab', 'dot_probe_task', 'with', 'palatable_food', 'and', 'neutral', 'cues', 'and', 'self', 'report', 'assessments', 'of', 'positive', 'and', 'negative_affect', 'eating', 'expectancies', 'the', 'belief', 'that', 'eating', 'would', 'improve', 'one', 'mood', 'and', 'binge', 'eating', 'symptoms', 'results', 'generalized_linear', 'mixed', 'models', 'indicated', 'higher', 'momentary', 'ab', 'toward', 'palatable_food', 'was', 'associated', 'with', 'increased', 'risk', 'of', 'subsequent', 'binge', 'eating', 'and', 'two', 'way', 'interaction', 'showed', 'that', 'moments', 'of', 'higher', 'eating', 'expectancies', 'and', 'negative_affect', 'were', 'associated', 'with', 'increased', 'likelihood', 'of', 'subsequent', 'binge', 'eating', 'also', 'three', 'way', 'interaction', 'emerged', 'in', 'that', 'the', 'association', 'between', 'eating', 'expectancies', 'and', 'subsequent', 'binge', 'eating', 'was', 'strongest', 'at', 'lower', 'levels', 'of', 'positive', 'affect', 'and', 'higher', 'ab', 'discussion', 'together', 'findings', 'partially', 'supported', 'hypotheses', 'and', 'demonstrate', 'meaningful', 'within', 'person', 'fluctuations', 'in', 'ab', 'that', 'precede', 'binge', 'eating', 'further', 'results', 'demonstrate', 'that', 'the', 'momentary', 'influence', 'of', 'eating', 'expectancies', 'on', 'binge', 'eating', 'depends', 'on', 'both', 'affective', 'state', 'and', 'attentional', 'processes']\n"
     ]
    }
   ],
   "source": [
    "# Let's see bigram/trigram examples\n",
    "print(trigram_mod[bigram_mod[data_words[0]]])"
   ]
  },
  {
   "cell_type": "code",
   "execution_count": 15,
   "metadata": {},
   "outputs": [],
   "source": [
    "# Removing Stop Words\n",
    "data_words_nostops = remove_stopwords(data_words)\n",
    "\n",
    "# Forming Bigrams\n",
    "data_words_bigrams = make_bigrams(data_words_nostops)\n",
    "\n",
    "# Forming Trigrams\n",
    "data_words_trigrams = make_trigrams(data_words_bigrams)\n",
    "\n",
    "# Lemmatization keeping only noun, adj, vb, adv\n",
    "data_lemmatized = lemmatization(data_words_trigrams, allowed_postags=['NOUN', 'ADJ', 'VERB', 'ADV'])"
   ]
  },
  {
   "cell_type": "code",
   "execution_count": 16,
   "metadata": {},
   "outputs": [
    {
     "name": "stdout",
     "output_type": "stream",
     "text": [
      "[['affect_regulation', 'eating', 'expectancy', 'attention', 'food', 'related', 'cue', 'interrelate', 'construct', 'implicate', 'maintenance', 'binge', 'eating', 'process', 'considerable', 'temporal', 'variability', 'momentary', 'association', 'domain', 'elucidate', 'examine', 'model', 'posit', 'momentary', 'fluctuation', 'affect', 'eat', 'expectancy', 'attention', 'bias', 'ab', 'interact', 'predict', 'subsequent', 'binge', 'eating', 'method', 'woman', 'endorse', 'recurrent', 'binge', 'eating', 'complete', 'day', 'ecological_momentary_assessment', 'protocol', 'ambulatory', 'measure', 'dot_probe_task', 'palatable_food', 'neutral', 'cue', 'self', 'report', 'assessment', 'positive', 'negative_affect', 'eating', 'expectancy', 'belief', 'eating', 'improve', 'mood', 'binge', 'eating', 'symptom', 'result', 'generalized_linear', 'mixed', 'model', 'indicate', 'high', 'momentary', 'ab', 'palatable_food', 'associate', 'increase', 'risk', 'subsequent', 'binge', 'eating', 'way', 'interaction', 'show', 'moment', 'high', 'eating', 'expectancy', 'negative_affect', 'associate', 'increase', 'likelihood', 'subsequent', 'binge', 'eating', 'way', 'interaction', 'emerge', 'eat', 'expectancy', 'subsequent', 'binge', 'eat', 'strong', 'low', 'level', 'positive', 'affect', 'high', 'ab', 'discussion', 'finding', 'partially', 'support', 'hypothesis', 'demonstrate', 'meaningful', 'person', 'fluctuation', 'ab', 'precede', 'binge', 'eating', 'result', 'demonstrate', 'momentary', 'influence', 'eat', 'expectancy', 'binge', 'eating', 'depend', 'affective', 'state', 'attentional', 'process'], ['improve', 'treatment', 'outcome', 'family', 'based', 'treatment', 'fbt', 'anorexia', 'nervosa', 'predict', 'weight', 'gain', 'occur', 'early', 'course', 'treatment', 'lbs', 'week', 'prior', 'work', 'suggest', 'early', 'weight', 'gain', 'high', 'level', 'care', 'partial_hospitalization', 'program', 'php', 'predict', 'weight', 'restoration', 'discharge', 'examine', 'specific', 'rate', 'gain', 'fbt', 'inform', 'php', 'program', 'best', 'predict', 'treatment', 'response', 'method', 'examine', 'rate', 'weight', 'gain', 'pound', 'percent', 'expect', 'body', 'weight', 'ebw', 'predict', 'positive', 'outcome', 'patient', 'age', 'year', 'sd', 'enrol', 'family', 'base', 'php', 'result', 'receiver', 'operator', 'characteristic', 'analysis', 'demonstrate', 'change', 'ebw', 'week', 'useful', 'change', 'weight', 'predict', 'positive', 'outcome', 'gaining', 'pound', 'ebw', 'week', 'treatment', 'significantly', 'predict', 'positive', 'outcome', 'discussion', 'finding', 'suggest', 'positive', 'outcome', 'fbt', 'inform', 'php', 'predict', 'rapid', 'weight', 'gain', 'initial', 'week', 'treatment', 'need', 'identify', 'specific', 'family', 'patient', 'characteristic', 'facilitate', 'weight', 'gain', 'develop', 'corresponding', 'intervention', 'improve', 'outcome']]\n",
      "Our preprocessed text is now a <class 'list'>\n"
     ]
    }
   ],
   "source": [
    "print(data_lemmatized[:2])\n",
    "print('Our preprocessed text is now a ' + str(type(data_lemmatized)))"
   ]
  },
  {
   "cell_type": "code",
   "execution_count": 17,
   "metadata": {},
   "outputs": [],
   "source": [
    "# Adding our list of lists into our data frame:\n",
    "df['processed_list'] = data_lemmatized"
   ]
  },
  {
   "cell_type": "code",
   "execution_count": 18,
   "metadata": {},
   "outputs": [
    {
     "name": "stdout",
     "output_type": "stream",
     "text": [
      "0    [affect_regulation, eating, expectancy, attent...\n",
      "1    [improve, treatment, outcome, family, based, t...\n",
      "2    [improve, understand, medical_complication, en...\n",
      "3    [eat, disorder, ed, occur, high, rate, sexual,...\n",
      "4    [gi, symptom, common, anorexia, nervosa, preda...\n",
      "5    [eat, disorder, ed, characterize, significant,...\n",
      "6    [user_centered_design, improve, engagement, po...\n",
      "7    [momentary, negative_affect, show, predict, ea...\n",
      "8    [eat, disorder, ed, associate, decrease, bone_...\n",
      "9    [previous, show, certain, eating, pattern, rig...\n",
      "Name: processed_list, dtype: object\n"
     ]
    }
   ],
   "source": [
    "print(df[\"processed_list\"][:10])"
   ]
  },
  {
   "cell_type": "code",
   "execution_count": 19,
   "metadata": {},
   "outputs": [],
   "source": [
    "# Define function to convert our list of lists in raw text:\n",
    "def text_clean(my_text):\n",
    "    return [\" \".join(i) for i in my_text]"
   ]
  },
  {
   "cell_type": "code",
   "execution_count": 20,
   "metadata": {},
   "outputs": [],
   "source": [
    "df['processed'] = text_clean(data_lemmatized)"
   ]
  },
  {
   "cell_type": "code",
   "execution_count": 21,
   "metadata": {},
   "outputs": [
    {
     "data": {
      "text/html": [
       "<div>\n",
       "<style scoped>\n",
       "    .dataframe tbody tr th:only-of-type {\n",
       "        vertical-align: middle;\n",
       "    }\n",
       "\n",
       "    .dataframe tbody tr th {\n",
       "        vertical-align: top;\n",
       "    }\n",
       "\n",
       "    .dataframe thead th {\n",
       "        text-align: right;\n",
       "    }\n",
       "</style>\n",
       "<table border=\"1\" class=\"dataframe\">\n",
       "  <thead>\n",
       "    <tr style=\"text-align: right;\">\n",
       "      <th></th>\n",
       "      <th>Authors</th>\n",
       "      <th>Author(s) ID</th>\n",
       "      <th>Title</th>\n",
       "      <th>Year</th>\n",
       "      <th>Source title</th>\n",
       "      <th>Volume</th>\n",
       "      <th>Issue</th>\n",
       "      <th>Art. No.</th>\n",
       "      <th>Page start</th>\n",
       "      <th>Page end</th>\n",
       "      <th>...</th>\n",
       "      <th>Document Type</th>\n",
       "      <th>Publication Stage</th>\n",
       "      <th>Access Type</th>\n",
       "      <th>Source</th>\n",
       "      <th>EID</th>\n",
       "      <th>Funding Text 4</th>\n",
       "      <th>Funding Text 5</th>\n",
       "      <th>Funding Text 6</th>\n",
       "      <th>processed_list</th>\n",
       "      <th>processed</th>\n",
       "    </tr>\n",
       "  </thead>\n",
       "  <tbody>\n",
       "    <tr>\n",
       "      <th>0</th>\n",
       "      <td>Smith K.E., Mason T.B., Juarascio A., Weinbach...</td>\n",
       "      <td>55507492500;56168408500;35753736200;5026340640...</td>\n",
       "      <td>The momentary interplay of affect, attention b...</td>\n",
       "      <td>2020</td>\n",
       "      <td>International Journal of Eating Disorders</td>\n",
       "      <td>53.0</td>\n",
       "      <td>4.0</td>\n",
       "      <td>NaN</td>\n",
       "      <td>586.0</td>\n",
       "      <td>594.0</td>\n",
       "      <td>...</td>\n",
       "      <td>Article</td>\n",
       "      <td>Final</td>\n",
       "      <td>NaN</td>\n",
       "      <td>Scopus</td>\n",
       "      <td>2-s2.0-85083535660</td>\n",
       "      <td>NaN</td>\n",
       "      <td>NaN</td>\n",
       "      <td>NaN</td>\n",
       "      <td>[affect_regulation, eating, expectancy, attent...</td>\n",
       "      <td>affect_regulation eating expectancy attention ...</td>\n",
       "    </tr>\n",
       "    <tr>\n",
       "      <th>1</th>\n",
       "      <td>Van Huysse J.L., Smith K., Mammel K.A., Prohas...</td>\n",
       "      <td>57211692842;57211683813;6507569120;57216448773...</td>\n",
       "      <td>Early weight gain predicts treatment response ...</td>\n",
       "      <td>2020</td>\n",
       "      <td>International Journal of Eating Disorders</td>\n",
       "      <td>53.0</td>\n",
       "      <td>4.0</td>\n",
       "      <td>NaN</td>\n",
       "      <td>606.0</td>\n",
       "      <td>610.0</td>\n",
       "      <td>...</td>\n",
       "      <td>Article</td>\n",
       "      <td>Final</td>\n",
       "      <td>NaN</td>\n",
       "      <td>Scopus</td>\n",
       "      <td>2-s2.0-85083531378</td>\n",
       "      <td>NaN</td>\n",
       "      <td>NaN</td>\n",
       "      <td>NaN</td>\n",
       "      <td>[improve, treatment, outcome, family, based, t...</td>\n",
       "      <td>improve treatment outcome family based treatme...</td>\n",
       "    </tr>\n",
       "    <tr>\n",
       "      <th>2</th>\n",
       "      <td>Aulinas A., Marengi D.A., Galbiati F., Asanza ...</td>\n",
       "      <td>42560893700;55880518800;57215846471;5719529853...</td>\n",
       "      <td>Medical comorbidities and endocrine dysfunctio...</td>\n",
       "      <td>2020</td>\n",
       "      <td>International Journal of Eating Disorders</td>\n",
       "      <td>53.0</td>\n",
       "      <td>4.0</td>\n",
       "      <td>NaN</td>\n",
       "      <td>631.0</td>\n",
       "      <td>636.0</td>\n",
       "      <td>...</td>\n",
       "      <td>Article</td>\n",
       "      <td>Final</td>\n",
       "      <td>NaN</td>\n",
       "      <td>Scopus</td>\n",
       "      <td>2-s2.0-85082032867</td>\n",
       "      <td>NaN</td>\n",
       "      <td>NaN</td>\n",
       "      <td>NaN</td>\n",
       "      <td>[improve, understand, medical_complication, en...</td>\n",
       "      <td>improve understand medical_complication endocr...</td>\n",
       "    </tr>\n",
       "    <tr>\n",
       "      <th>3</th>\n",
       "      <td>Mensinger J.L., Granche J.L., Cox S.A., Henret...</td>\n",
       "      <td>21834046800;57209779245;57214602781;24464002600;</td>\n",
       "      <td>Sexual and gender minority individuals report ...</td>\n",
       "      <td>2020</td>\n",
       "      <td>International Journal of Eating Disorders</td>\n",
       "      <td>53.0</td>\n",
       "      <td>4.0</td>\n",
       "      <td>NaN</td>\n",
       "      <td>541.0</td>\n",
       "      <td>554.0</td>\n",
       "      <td>...</td>\n",
       "      <td>Article</td>\n",
       "      <td>Final</td>\n",
       "      <td>Open Access</td>\n",
       "      <td>Scopus</td>\n",
       "      <td>2-s2.0-85081724543</td>\n",
       "      <td>NaN</td>\n",
       "      <td>NaN</td>\n",
       "      <td>NaN</td>\n",
       "      <td>[eat, disorder, ed, occur, high, rate, sexual,...</td>\n",
       "      <td>eat disorder ed occur high rate sexual gender ...</td>\n",
       "    </tr>\n",
       "    <tr>\n",
       "      <th>4</th>\n",
       "      <td>Zucker N.L., Bulik C.M.</td>\n",
       "      <td>8367933200;56827294000;</td>\n",
       "      <td>On bells, saliva, and abdominal pain or discom...</td>\n",
       "      <td>2020</td>\n",
       "      <td>International Journal of Eating Disorders</td>\n",
       "      <td>53.0</td>\n",
       "      <td>4.0</td>\n",
       "      <td>NaN</td>\n",
       "      <td>508.0</td>\n",
       "      <td>512.0</td>\n",
       "      <td>...</td>\n",
       "      <td>Article</td>\n",
       "      <td>Final</td>\n",
       "      <td>NaN</td>\n",
       "      <td>Scopus</td>\n",
       "      <td>2-s2.0-85081575634</td>\n",
       "      <td>NaN</td>\n",
       "      <td>NaN</td>\n",
       "      <td>NaN</td>\n",
       "      <td>[gi, symptom, common, anorexia, nervosa, preda...</td>\n",
       "      <td>gi symptom common anorexia nervosa predate ill...</td>\n",
       "    </tr>\n",
       "  </tbody>\n",
       "</table>\n",
       "<p>5 rows × 43 columns</p>\n",
       "</div>"
      ],
      "text/plain": [
       "                                             Authors  \\\n",
       "0  Smith K.E., Mason T.B., Juarascio A., Weinbach...   \n",
       "1  Van Huysse J.L., Smith K., Mammel K.A., Prohas...   \n",
       "2  Aulinas A., Marengi D.A., Galbiati F., Asanza ...   \n",
       "3  Mensinger J.L., Granche J.L., Cox S.A., Henret...   \n",
       "4                            Zucker N.L., Bulik C.M.   \n",
       "\n",
       "                                        Author(s) ID  \\\n",
       "0  55507492500;56168408500;35753736200;5026340640...   \n",
       "1  57211692842;57211683813;6507569120;57216448773...   \n",
       "2  42560893700;55880518800;57215846471;5719529853...   \n",
       "3   21834046800;57209779245;57214602781;24464002600;   \n",
       "4                            8367933200;56827294000;   \n",
       "\n",
       "                                               Title  Year  \\\n",
       "0  The momentary interplay of affect, attention b...  2020   \n",
       "1  Early weight gain predicts treatment response ...  2020   \n",
       "2  Medical comorbidities and endocrine dysfunctio...  2020   \n",
       "3  Sexual and gender minority individuals report ...  2020   \n",
       "4  On bells, saliva, and abdominal pain or discom...  2020   \n",
       "\n",
       "                                Source title  Volume Issue Art. No.  \\\n",
       "0  International Journal of Eating Disorders    53.0   4.0      NaN   \n",
       "1  International Journal of Eating Disorders    53.0   4.0      NaN   \n",
       "2  International Journal of Eating Disorders    53.0   4.0      NaN   \n",
       "3  International Journal of Eating Disorders    53.0   4.0      NaN   \n",
       "4  International Journal of Eating Disorders    53.0   4.0      NaN   \n",
       "\n",
       "  Page start Page end  ...  Document Type  Publication Stage  Access Type  \\\n",
       "0      586.0    594.0  ...        Article              Final          NaN   \n",
       "1      606.0    610.0  ...        Article              Final          NaN   \n",
       "2      631.0    636.0  ...        Article              Final          NaN   \n",
       "3      541.0    554.0  ...        Article              Final  Open Access   \n",
       "4      508.0    512.0  ...        Article              Final          NaN   \n",
       "\n",
       "   Source                 EID Funding Text 4 Funding Text 5 Funding Text 6  \\\n",
       "0  Scopus  2-s2.0-85083535660            NaN            NaN            NaN   \n",
       "1  Scopus  2-s2.0-85083531378            NaN            NaN            NaN   \n",
       "2  Scopus  2-s2.0-85082032867            NaN            NaN            NaN   \n",
       "3  Scopus  2-s2.0-85081724543            NaN            NaN            NaN   \n",
       "4  Scopus  2-s2.0-85081575634            NaN            NaN            NaN   \n",
       "\n",
       "                                      processed_list  \\\n",
       "0  [affect_regulation, eating, expectancy, attent...   \n",
       "1  [improve, treatment, outcome, family, based, t...   \n",
       "2  [improve, understand, medical_complication, en...   \n",
       "3  [eat, disorder, ed, occur, high, rate, sexual,...   \n",
       "4  [gi, symptom, common, anorexia, nervosa, preda...   \n",
       "\n",
       "                                           processed  \n",
       "0  affect_regulation eating expectancy attention ...  \n",
       "1  improve treatment outcome family based treatme...  \n",
       "2  improve understand medical_complication endocr...  \n",
       "3  eat disorder ed occur high rate sexual gender ...  \n",
       "4  gi symptom common anorexia nervosa predate ill...  \n",
       "\n",
       "[5 rows x 43 columns]"
      ]
     },
     "execution_count": 21,
     "metadata": {},
     "output_type": "execute_result"
    }
   ],
   "source": [
    "df.head()"
   ]
  },
  {
   "cell_type": "code",
   "execution_count": 22,
   "metadata": {},
   "outputs": [],
   "source": [
    "# Now, let's add a word count column into our df\n",
    "df['abstract_word_count'] = df['processed_list'].apply(lambda x: len(x))\n",
    "# ... and a unique words count column\n",
    "df['abstract_unique_words'] = df['processed_list'].apply(lambda x:len(set(str(x))))"
   ]
  },
  {
   "cell_type": "code",
   "execution_count": 23,
   "metadata": {},
   "outputs": [
    {
     "name": "stdout",
     "output_type": "stream",
     "text": [
      "count    7899.000000\n",
      "mean       93.841246\n",
      "std        33.034603\n",
      "min         1.000000\n",
      "25%        73.000000\n",
      "50%        90.000000\n",
      "75%       115.000000\n",
      "max       332.000000\n",
      "Name: abstract_word_count, dtype: float64\n",
      "count    7899.000000\n",
      "mean       29.645272\n",
      "std         1.318012\n",
      "min         9.000000\n",
      "25%        29.000000\n",
      "50%        30.000000\n",
      "75%        31.000000\n",
      "max        33.000000\n",
      "Name: abstract_unique_words, dtype: float64\n"
     ]
    }
   ],
   "source": [
    "print(df['abstract_word_count'].describe(include='all'))\n",
    "print(df['abstract_unique_words'].describe(include='all'))"
   ]
  },
  {
   "cell_type": "code",
   "execution_count": 24,
   "metadata": {},
   "outputs": [],
   "source": [
    "# Saving our data frame\n",
    "df.to_pickle('df_processed.pkl')\n",
    "# To load it:\n",
    "# with open('df_processed.pkl', 'rb') as f:\n",
    "#    df = pickle.load(f)\n",
    "#    f.close()"
   ]
  },
  {
   "cell_type": "markdown",
   "metadata": {},
   "source": [
    "TOPIC MODELING COMPARISON WITH GENSIM"
   ]
  },
  {
   "cell_type": "code",
   "execution_count": 25,
   "metadata": {},
   "outputs": [],
   "source": [
    "# Creating a Dictionary with Gensim\n",
    "id2word = Dictionary(data_lemmatized)"
   ]
  },
  {
   "cell_type": "code",
   "execution_count": 26,
   "metadata": {},
   "outputs": [],
   "source": [
    "# Count Vectorizing: Creating a Gensim Corpus with Term Frequency (Bag-of-Words)\n",
    "corpus = [id2word.doc2bow(text) for text in data_lemmatized]"
   ]
  },
  {
   "cell_type": "code",
   "execution_count": 27,
   "metadata": {},
   "outputs": [
    {
     "name": "stdout",
     "output_type": "stream",
     "text": [
      "[[(0, 4), (1, 2), (2, 1), (3, 1), (4, 1), (5, 1), (6, 2), (7, 1), (8, 2), (9, 1), (10, 1), (11, 1), (12, 9), (13, 1), (14, 1), (15, 1), (16, 2), (17, 1), (18, 2), (19, 1), (20, 1), (21, 1), (22, 1), (23, 4), (24, 12), (25, 1), (26, 1), (27, 1), (28, 1), (29, 1), (30, 6), (31, 1), (32, 2), (33, 1), (34, 1), (35, 3), (36, 1), (37, 1), (38, 1), (39, 2), (40, 1), (41, 1), (42, 1), (43, 2), (44, 1), (45, 1), (46, 1), (47, 1), (48, 1), (49, 1), (50, 1), (51, 1), (52, 1), (53, 2), (54, 1), (55, 4), (56, 1), (57, 2), (58, 1), (59, 2), (60, 1), (61, 1), (62, 1), (63, 2), (64, 1), (65, 1), (66, 2), (67, 1), (68, 1), (69, 1), (70, 1), (71, 2), (72, 1), (73, 1), (74, 1), (75, 1), (76, 1), (77, 4), (78, 1), (79, 1), (80, 1), (81, 1), (82, 2), (83, 1)]]\n",
      "<class 'list'>\n"
     ]
    }
   ],
   "source": [
    "# Show our corpus\n",
    "print(corpus[:1])\n",
    "print(type(corpus))"
   ]
  },
  {
   "cell_type": "code",
   "execution_count": 28,
   "metadata": {},
   "outputs": [],
   "source": [
    "# Hierarchical Dirichlet Process (HDP) Model with Gensim:\n",
    "# HDP is an unsupervised topic model which figures out the number of topics on it's own\n",
    "hdpmodel = HdpModel(corpus=corpus, id2word=id2word)"
   ]
  },
  {
   "cell_type": "code",
   "execution_count": 30,
   "metadata": {},
   "outputs": [
    {
     "data": {
      "text/plain": [
       "[(0,\n",
       "  '0.021*disorder + 0.020*eat + 0.012*patient + 0.011*eating + 0.011*weight + 0.010*body + 0.010*result + 0.010*treatment + 0.008*nervosa + 0.008*group + 0.007*woman + 0.007*method + 0.006*high + 0.006*self + 0.006*report + 0.006*anorexia + 0.006*binge + 0.006*control + 0.005*symptom + 0.004*level'),\n",
       " (1,\n",
       "  '0.019*disorder + 0.018*eat + 0.011*patient + 0.010*eating + 0.010*weight + 0.009*treatment + 0.009*body + 0.008*result + 0.007*nervosa + 0.007*group + 0.006*woman + 0.006*method + 0.005*control + 0.005*self + 0.005*high + 0.005*report + 0.005*anorexia + 0.004*level + 0.004*symptom + 0.004*related'),\n",
       " (2,\n",
       "  '0.016*disorder + 0.016*eat + 0.009*eating + 0.009*patient + 0.008*body + 0.007*result + 0.007*treatment + 0.006*binge + 0.006*group + 0.006*weight + 0.005*method + 0.005*woman + 0.005*symptom + 0.005*nervosa + 0.004*report + 0.004*participant + 0.004*high + 0.004*behavior + 0.004*control + 0.004*self'),\n",
       " (3,\n",
       "  '0.015*disorder + 0.014*eat + 0.008*patient + 0.007*result + 0.007*eating + 0.006*treatment + 0.006*weight + 0.006*body + 0.006*group + 0.006*nervosa + 0.005*method + 0.005*report + 0.005*self + 0.005*anorexia + 0.004*woman + 0.004*control + 0.004*high + 0.004*increase + 0.004*symptom + 0.003*participant'),\n",
       " (4,\n",
       "  '0.010*disorder + 0.009*eat + 0.006*weight + 0.005*treatment + 0.005*result + 0.005*eating + 0.005*patient + 0.004*method + 0.003*group + 0.003*nervosa + 0.003*report + 0.003*high + 0.003*symptom + 0.003*binge + 0.003*body + 0.003*woman + 0.002*anorexia + 0.002*adolescent + 0.002*discussion + 0.002*associate'),\n",
       " (5,\n",
       "  '0.008*eat + 0.007*disorder + 0.006*body + 0.006*patient + 0.005*result + 0.004*weight + 0.004*nervosa + 0.004*eating + 0.004*method + 0.003*symptom + 0.003*treatment + 0.003*anorexia + 0.003*discussion + 0.003*clinical + 0.002*woman + 0.002*group + 0.002*high + 0.002*binge + 0.002*examine + 0.002*model'),\n",
       " (6,\n",
       "  '0.005*eat + 0.004*weight + 0.004*patient + 0.004*disorder + 0.003*result + 0.003*method + 0.002*high + 0.002*nervosa + 0.002*eating + 0.002*associate + 0.002*participant + 0.002*control + 0.002*treatment + 0.002*body + 0.002*increase + 0.002*compare + 0.002*discussion + 0.002*relationship + 0.002*food + 0.002*risk'),\n",
       " (7,\n",
       "  '0.005*disorder + 0.005*eat + 0.004*treatment + 0.003*result + 0.003*eating + 0.003*body + 0.003*method + 0.003*factor + 0.002*woman + 0.002*group + 0.002*discussion + 0.002*adolescent + 0.002*symptom + 0.002*report + 0.002*examine + 0.002*nervosa + 0.002*weight + 0.002*high + 0.002*binge + 0.002*family'),\n",
       " (8,\n",
       "  '0.008*disorder + 0.007*eat + 0.004*eating + 0.004*weight + 0.004*result + 0.003*treatment + 0.003*patient + 0.003*body + 0.003*method + 0.002*symptom + 0.002*adolescent + 0.002*self + 0.002*woman + 0.002*behavior + 0.002*examine + 0.002*discussion + 0.002*nervosa + 0.002*include + 0.002*study + 0.002*report'),\n",
       " (9,\n",
       "  '0.006*disorder + 0.004*eat + 0.004*eating + 0.003*nervosa + 0.003*result + 0.003*patient + 0.003*treatment + 0.002*anorexia + 0.002*method + 0.002*group + 0.002*weight + 0.002*discussion + 0.002*report + 0.002*binge + 0.002*body + 0.002*significantly + 0.002*year + 0.002*symptom + 0.002*woman + 0.001*control'),\n",
       " (10,\n",
       "  '0.007*disorder + 0.006*eat + 0.003*result + 0.002*nervosa + 0.002*eating + 0.002*method + 0.002*clinical + 0.002*patient + 0.002*factor + 0.002*datum + 0.002*anorexia + 0.002*age + 0.002*criterion + 0.001*weight + 0.001*report + 0.001*high + 0.001*participant + 0.001*bn + 0.001*year + 0.001*discussion'),\n",
       " (11,\n",
       "  '0.005*eat + 0.004*treatment + 0.004*disorder + 0.003*weight + 0.003*patient + 0.002*eating + 0.002*body + 0.002*result + 0.002*group + 0.002*discussion + 0.002*method + 0.001*measure + 0.001*factor + 0.001*gain + 0.001*severity + 0.001*week + 0.001*outcome + 0.001*loc + 0.001*support + 0.001*report'),\n",
       " (12,\n",
       "  '0.003*disorder + 0.002*body + 0.002*result + 0.002*eat + 0.002*food + 0.002*study + 0.002*eating + 0.002*treatment + 0.002*increase + 0.001*method + 0.001*include + 0.001*nervosa + 0.001*bn + 0.001*effect + 0.001*patient + 0.001*anorexia + 0.001*adult + 0.001*concern + 0.001*risk + 0.001*attention'),\n",
       " (13,\n",
       "  '0.003*disorder + 0.003*eat + 0.002*result + 0.002*body + 0.002*nervosa + 0.001*eating + 0.001*effect + 0.001*group + 0.001*anorexia + 0.001*discussion + 0.001*pathology + 0.001*binge + 0.001*study + 0.001*method + 0.001*report + 0.001*treatment + 0.001*weight + 0.001*patient + 0.001*participant + 0.001*female'),\n",
       " (14,\n",
       "  '0.003*eat + 0.003*disorder + 0.002*treatment + 0.002*symptom + 0.002*severity + 0.002*patient + 0.001*result + 0.001*nervosa + 0.001*self + 0.001*bn + 0.001*therapy + 0.001*eating + 0.001*psychopathology + 0.001*increase + 0.001*discussion + 0.001*associate + 0.001*polymer + 0.001*risk + 0.001*method + 0.001*individual'),\n",
       " (15,\n",
       "  '0.003*disorder + 0.002*bed + 0.002*ede + 0.002*eat + 0.001*loc + 0.001*result + 0.001*binge + 0.001*eating + 0.001*self + 0.001*method + 0.001*high + 0.001*discussion + 0.001*obesity + 0.001*ed + 0.001*clinical + 0.001*factor + 0.001*related + 0.001*participant + 0.001*control + 0.001*practice'),\n",
       " (16,\n",
       "  '0.003*eat + 0.003*weight + 0.002*disorder + 0.002*adolescent + 0.002*patient + 0.001*period + 0.001*child + 0.001*treatment + 0.001*anorexia + 0.001*ee + 0.001*nervosa + 0.001*result + 0.001*binge + 0.001*related + 0.001*family + 0.001*obesity + 0.001*self + 0.001*follow + 0.001*year + 0.001*involuntary'),\n",
       " (17,\n",
       "  '0.002*symptom + 0.002*patient + 0.001*recovery + 0.001*disorder + 0.001*result + 0.001*nervosa + 0.001*eat + 0.001*treatment + 0.001*bn + 0.001*face + 0.001*method + 0.001*ocd + 0.001*risk + 0.001*anorexia + 0.001*adversity + 0.001*participant + 0.001*associate + 0.001*presence + 0.001*residual + 0.001*outcome'),\n",
       " (18,\n",
       "  '0.002*disorder + 0.002*dropout + 0.001*cbt + 0.001*symptom + 0.001*high + 0.001*treatment + 0.001*confidence + 0.001*eat + 0.001*eating + 0.001*change + 0.001*patient + 0.001*academic + 0.001*bpb + 0.001*low + 0.001*associate + 0.001*clinical + 0.001*approach + 0.001*year + 0.001*outcome + 0.001*measure'),\n",
       " (19,\n",
       "  '0.002*eat + 0.001*patient + 0.001*bed + 0.001*report + 0.001*eating + 0.001*self + 0.001*woman + 0.001*related + 0.001*nervosa + 0.001*disorder + 0.001*weight + 0.001*result + 0.001*binge + 0.001*rate + 0.001*treatment + 0.001*ci + 0.001*abstinence + 0.001*image + 0.001*con + 0.001*black')]"
      ]
     },
     "execution_count": 30,
     "metadata": {},
     "output_type": "execute_result"
    }
   ],
   "source": [
    "hdpmodel.show_topics()"
   ]
  },
  {
   "cell_type": "code",
   "execution_count": 31,
   "metadata": {},
   "outputs": [],
   "source": [
    "# The process of determining the number of topics (k) has been an iterative process\n",
    "# Based on the results, k = 10 is chosen as the best number of clusters to explain our data\n",
    "# Thus, we will be using k = 10 for LSI, LDA, and then for NMF\n",
    "k = 10"
   ]
  },
  {
   "cell_type": "code",
   "execution_count": 32,
   "metadata": {},
   "outputs": [],
   "source": [
    "# Latent Semantic Indexing (LSI) or Latent Semantic Analysis (LSA) Model with Gensim:\n",
    "lsimodel = LsiModel(corpus=corpus, num_topics=k, id2word=id2word)"
   ]
  },
  {
   "cell_type": "code",
   "execution_count": 33,
   "metadata": {},
   "outputs": [
    {
     "data": {
      "text/plain": [
       "[(0,\n",
       "  '0.443*\"disorder\" + 0.427*\"eat\" + 0.221*\"eating\" + 0.207*\"patient\" + 0.194*\"weight\" + 0.173*\"treatment\" + 0.169*\"result\" + 0.167*\"body\" + 0.133*\"group\" + 0.126*\"nervosa\"'),\n",
       " (1,\n",
       "  '0.568*\"weight\" + -0.474*\"disorder\" + 0.392*\"body\" + -0.326*\"eat\" + -0.129*\"eating\" + 0.098*\"bmi\" + 0.095*\"loss\" + 0.094*\"image\" + 0.086*\"patient\" + 0.075*\"control\"'),\n",
       " (2,\n",
       "  '-0.576*\"patient\" + -0.467*\"treatment\" + 0.311*\"body\" + 0.292*\"eat\" + -0.222*\"nervosa\" + -0.169*\"anorexia\" + 0.144*\"woman\" + 0.095*\"image\" + -0.091*\"outcome\" + 0.091*\"dissatisfaction\"'),\n",
       " (3,\n",
       "  '0.601*\"body\" + -0.542*\"weight\" + 0.254*\"patient\" + 0.197*\"image\" + -0.167*\"binge\" + 0.149*\"nervosa\" + -0.149*\"treatment\" + -0.141*\"eat\" + 0.125*\"dissatisfaction\" + -0.123*\"loss\"'),\n",
       " (4,\n",
       "  '0.696*\"treatment\" + -0.399*\"patient\" + 0.248*\"body\" + -0.147*\"weight\" + -0.145*\"nervosa\" + -0.138*\"control\" + 0.107*\"outcome\" + -0.107*\"anorexia\" + 0.102*\"image\" + -0.096*\"group\"'),\n",
       " (5,\n",
       "  '-0.462*\"binge\" + 0.417*\"disorder\" + 0.387*\"weight\" + -0.250*\"woman\" + -0.194*\"eating\" + -0.188*\"bed\" + -0.176*\"group\" + 0.176*\"patient\" + 0.131*\"body\" + -0.119*\"self\"'),\n",
       " (6,\n",
       "  '-0.439*\"eat\" + 0.384*\"disorder\" + 0.346*\"woman\" + -0.339*\"patient\" + 0.304*\"nervosa\" + 0.196*\"weight\" + 0.188*\"anorexia\" + 0.149*\"eating\" + 0.146*\"bulimia\" + -0.132*\"score\"'),\n",
       " (7,\n",
       "  '-0.456*\"binge\" + -0.372*\"eating\" + -0.306*\"patient\" + -0.277*\"body\" + -0.270*\"bed\" + 0.252*\"nervosa\" + 0.217*\"anorexia\" + 0.197*\"woman\" + 0.161*\"group\" + 0.131*\"self\"'),\n",
       " (8,\n",
       "  '-0.504*\"woman\" + -0.404*\"group\" + 0.260*\"eating\" + 0.239*\"adolescent\" + 0.214*\"nervosa\" + -0.211*\"eat\" + 0.187*\"anorexia\" + 0.177*\"child\" + -0.170*\"treatment\" + 0.122*\"behavior\"'),\n",
       " (9,\n",
       "  '0.488*\"group\" + -0.314*\"self\" + -0.312*\"eat\" + -0.294*\"nervosa\" + 0.216*\"disorder\" + -0.198*\"anorexia\" + -0.192*\"woman\" + -0.144*\"bulimia\" + 0.134*\"control\" + -0.133*\"binge\"')]"
      ]
     },
     "execution_count": 33,
     "metadata": {},
     "output_type": "execute_result"
    }
   ],
   "source": [
    "# Show the 'k' topics\n",
    "lsimodel.show_topics(num_topics=k)"
   ]
  },
  {
   "cell_type": "code",
   "execution_count": 34,
   "metadata": {},
   "outputs": [],
   "source": [
    "# Latent Dirichlet Allocation (LDA) model with Gensim:\n",
    "ldamodel = LdaModel(corpus=corpus,\n",
    "            id2word=id2word,\n",
    "            num_topics=k, \n",
    "            random_state=100,\n",
    "            update_every=1,\n",
    "            chunksize=100,\n",
    "            passes=10,\n",
    "            alpha='auto',\n",
    "            per_word_topics=True)"
   ]
  },
  {
   "cell_type": "code",
   "execution_count": 35,
   "metadata": {},
   "outputs": [
    {
     "data": {
      "text/plain": [
       "[(0,\n",
       "  '0.080*\"disorder\" + 0.040*\"nervosa\" + 0.036*\"patient\" + 0.026*\"eat\" + 0.024*\"eating\" + 0.023*\"anorexia\" + 0.020*\"bulimia\" + 0.014*\"clinical\" + 0.014*\"group\" + 0.013*\"report\"'),\n",
       " (1,\n",
       "  '0.114*\"family\" + 0.090*\"child\" + 0.058*\"adolescent\" + 0.057*\"parent\" + 0.046*\"mother\" + 0.022*\"parental\" + 0.017*\"childhood\" + 0.014*\"daughter\" + 0.014*\"caregiver\" + 0.013*\"father\"'),\n",
       " (2,\n",
       "  '0.076*\"body\" + 0.033*\"weight\" + 0.022*\"woman\" + 0.019*\"image\" + 0.019*\"female\" + 0.017*\"dissatisfaction\" + 0.016*\"girl\" + 0.013*\"age\" + 0.012*\"male\" + 0.012*\"risk\"'),\n",
       " (3,\n",
       "  '0.103*\"eat\" + 0.066*\"disorder\" + 0.037*\"self\" + 0.033*\"eating\" + 0.022*\"symptom\" + 0.021*\"score\" + 0.019*\"questionnaire\" + 0.019*\"measure\" + 0.017*\"scale\" + 0.014*\"high\"'),\n",
       " (4,\n",
       "  '0.083*\"binge\" + 0.058*\"food\" + 0.049*\"eating\" + 0.045*\"bed\" + 0.027*\"obese\" + 0.023*\"obesity\" + 0.021*\"eat\" + 0.014*\"episode\" + 0.013*\"high\" + 0.012*\"report\"'),\n",
       " (5,\n",
       "  '0.146*\"treatment\" + 0.032*\"intervention\" + 0.031*\"therapy\" + 0.031*\"outcome\" + 0.026*\"group\" + 0.018*\"change\" + 0.017*\"improvement\" + 0.015*\"participant\" + 0.015*\"cbt\" + 0.014*\"post\"'),\n",
       " (6,\n",
       "  '0.045*\"anorexic\" + 0.037*\"anorexia\" + 0.029*\"case\" + 0.019*\"cause\" + 0.019*\"nervosa\" + 0.018*\"patient\" + 0.014*\"abnormal\" + 0.013*\"illustrate\" + 0.013*\"severe\" + 0.013*\"chronic\"'),\n",
       " (7,\n",
       "  '0.073*\"patient\" + 0.041*\"weight\" + 0.024*\"change\" + 0.023*\"follow\" + 0.019*\"year\" + 0.018*\"treatment\" + 0.018*\"cent\" + 0.017*\"inpatient\" + 0.013*\"anorexia\" + 0.013*\"time\"'),\n",
       " (8,\n",
       "  '0.032*\"control\" + 0.025*\"behaviour\" + 0.022*\"group\" + 0.017*\"result\" + 0.015*\"bulimic\" + 0.014*\"subject\" + 0.013*\"woman\" + 0.013*\"suggest\" + 0.012*\"level\" + 0.011*\"social\"'),\n",
       " (9,\n",
       "  '0.037*\"disorder\" + 0.017*\"eating\" + 0.016*\"eat\" + 0.015*\"programme\" + 0.012*\"experience\" + 0.012*\"treatment\" + 0.011*\"need\" + 0.010*\"describe\" + 0.010*\"individual\" + 0.009*\"service\"')]"
      ]
     },
     "execution_count": 35,
     "metadata": {},
     "output_type": "execute_result"
    }
   ],
   "source": [
    "ldamodel.show_topics()"
   ]
  },
  {
   "cell_type": "code",
   "execution_count": 37,
   "metadata": {},
   "outputs": [],
   "source": [
    "# Non-Negative Matrix Factorization (NMF)\n",
    "nmfmodel = nmf.Nmf(corpus=corpus,\n",
    "            id2word=id2word,\n",
    "            num_topics=k, \n",
    "            random_state=100)"
   ]
  },
  {
   "cell_type": "code",
   "execution_count": 38,
   "metadata": {},
   "outputs": [
    {
     "data": {
      "text/plain": [
       "[(0,\n",
       "  '0.066*\"weight\" + 0.019*\"group\" + 0.017*\"loss\" + 0.014*\"treatment\" + 0.013*\"behavior\" + 0.011*\"control\" + 0.011*\"participant\" + 0.010*\"report\" + 0.010*\"bmi\" + 0.010*\"result\"'),\n",
       " (1,\n",
       "  '0.040*\"eat\" + 0.020*\"disorder\" + 0.018*\"eating\" + 0.016*\"symptom\" + 0.013*\"food\" + 0.013*\"level\" + 0.013*\"result\" + 0.012*\"high\" + 0.012*\"measure\" + 0.008*\"method\"'),\n",
       " (2,\n",
       "  '0.054*\"weight\" + 0.019*\"high\" + 0.018*\"self\" + 0.018*\"female\" + 0.017*\"child\" + 0.015*\"patient\" + 0.012*\"male\" + 0.011*\"low\" + 0.010*\"related\" + 0.010*\"concern\"'),\n",
       " (3,\n",
       "  '0.028*\"disorder\" + 0.022*\"eating\" + 0.020*\"nervosa\" + 0.019*\"anorexia\" + 0.018*\"control\" + 0.018*\"child\" + 0.015*\"adolescent\" + 0.013*\"behavior\" + 0.012*\"eat\" + 0.012*\"report\"'),\n",
       " (4,\n",
       "  '0.059*\"patient\" + 0.017*\"group\" + 0.015*\"body\" + 0.013*\"bn\" + 0.012*\"nervosa\" + 0.012*\"bed\" + 0.011*\"control\" + 0.011*\"result\" + 0.009*\"high\" + 0.009*\"anorexia\"'),\n",
       " (5,\n",
       "  '0.067*\"disorder\" + 0.065*\"binge\" + 0.056*\"eat\" + 0.054*\"eating\" + 0.038*\"bed\" + 0.020*\"report\" + 0.009*\"high\" + 0.009*\"individual\" + 0.009*\"episode\" + 0.008*\"criterion\"'),\n",
       " (6,\n",
       "  '0.095*\"body\" + 0.032*\"image\" + 0.022*\"dissatisfaction\" + 0.016*\"eat\" + 0.010*\"woman\" + 0.010*\"self\" + 0.009*\"girl\" + 0.009*\"result\" + 0.008*\"size\" + 0.008*\"factor\"'),\n",
       " (7,\n",
       "  '0.072*\"treatment\" + 0.027*\"disorder\" + 0.020*\"patient\" + 0.010*\"eat\" + 0.010*\"outcome\" + 0.009*\"family\" + 0.008*\"therapy\" + 0.008*\"nervosa\" + 0.008*\"result\" + 0.007*\"change\"'),\n",
       " (8,\n",
       "  '0.042*\"woman\" + 0.032*\"nervosa\" + 0.025*\"binge\" + 0.022*\"bulimia\" + 0.017*\"anorexia\" + 0.014*\"eating\" + 0.013*\"result\" + 0.012*\"factor\" + 0.012*\"symptom\" + 0.010*\"bn\"'),\n",
       " (9,\n",
       "  '0.081*\"disorder\" + 0.077*\"eat\" + 0.028*\"group\" + 0.024*\"patient\" + 0.023*\"self\" + 0.018*\"score\" + 0.015*\"nervosa\" + 0.015*\"bn\" + 0.015*\"bulimia\" + 0.010*\"clinical\"')]"
      ]
     },
     "execution_count": 38,
     "metadata": {},
     "output_type": "execute_result"
    }
   ],
   "source": [
    "nmfmodel.show_topics()"
   ]
  },
  {
   "cell_type": "code",
   "execution_count": 39,
   "metadata": {},
   "outputs": [],
   "source": [
    "# Topic Coherence\n",
    "hdptopics = [[word for word, prob in topic] for topicid, topic in hdpmodel.show_topics(formatted=False)]\n",
    "lsitopics = [[word for word, prob in topic] for topicid, topic in lsimodel.show_topics(formatted=False)]\n",
    "ldatopics = [[word for word, prob in topic] for topicid, topic in ldamodel.show_topics(formatted=False)]\n",
    "nmftopics = [[word for word, prob in topic] for topicid, topic in nmfmodel.show_topics(formatted=False)]\n",
    "hdp_coherence = CoherenceModel(topics=hdptopics[:10], texts=data_lemmatized, dictionary=id2word, coherence='c_v', window_size=10).get_coherence()\n",
    "lsi_coherence = CoherenceModel(topics=lsitopics, texts=data_lemmatized, dictionary=id2word, coherence='c_v', window_size=10).get_coherence()\n",
    "lda_coherence = CoherenceModel(topics=ldatopics, texts=data_lemmatized, dictionary=id2word, coherence='c_v', window_size=10).get_coherence()\n",
    "nmf_coherence = CoherenceModel(topics=nmftopics, texts=data_lemmatized, dictionary=id2word, coherence='c_v', window_size=10).get_coherence()"
   ]
  },
  {
   "cell_type": "code",
   "execution_count": 40,
   "metadata": {},
   "outputs": [
    {
     "name": "stdout",
     "output_type": "stream",
     "text": [
      "\n",
      "GENSIM HDP Model Coherence Score:  0.17227472681453632\n",
      "\n",
      "GENSIM LSI Model Coherence Score:  0.3210721952588168\n",
      "\n",
      "GENSIM LDA Model Coherence Score:  0.45624551861957324\n",
      "\n",
      "GENSIM NMF Model Coherence Score:  0.3766939925455436\n"
     ]
    }
   ],
   "source": [
    "# Print coherence values per model:\n",
    "print('\\nGENSIM HDP Model Coherence Score: ', hdp_coherence)\n",
    "print('\\nGENSIM LSI Model Coherence Score: ', lsi_coherence)\n",
    "print('\\nGENSIM LDA Model Coherence Score: ', lda_coherence)\n",
    "print('\\nGENSIM NMF Model Coherence Score: ', nmf_coherence)"
   ]
  },
  {
   "cell_type": "code",
   "execution_count": 41,
   "metadata": {},
   "outputs": [],
   "source": [
    "def evaluate_bar_graph(coherences, indices):\n",
    "    \"\"\"\n",
    "    Function to plot bar graph.\n",
    "    coherences: list of coherence values\n",
    "    indices: Indices to be used to mark bars. Length of this and coherences should be equal.\n",
    "    \"\"\"\n",
    "    assert len(coherences) == len(indices)\n",
    "    n = len(coherences)\n",
    "    x = np.arange(n)\n",
    "    plt.bar(x, coherences, width=0.2, tick_label=indices, align='center')\n",
    "    plt.xlabel('Models')\n",
    "    plt.ylabel('Coherence Value')"
   ]
  },
  {
   "cell_type": "code",
   "execution_count": 42,
   "metadata": {},
   "outputs": [
    {
     "data": {
      "image/png": "[encoded data removed]",
      "text/plain": [
       "<Figure size 432x288 with 1 Axes>"
      ]
     },
     "metadata": {
      "needs_background": "light"
     },
     "output_type": "display_data"
    }
   ],
   "source": [
    "# Plot for visual comparison of coherence values\n",
    "evaluate_bar_graph([hdp_coherence, lsi_coherence, nmf_coherence, lda_coherence], ['LSI', 'HDP', 'NMF', 'LDA'])\n",
    "# According to the output, LDA outperforms NMF, LSI and HDP\n",
    "# Now it's time to perform LDA and NMF using SciKit-Learn"
   ]
  },
  {
   "cell_type": "markdown",
   "metadata": {},
   "source": [
    "TOPIC MODELING WITH SCI-KIT LEARN: LDA and NMF"
   ]
  },
  {
   "cell_type": "markdown",
   "metadata": {},
   "source": [
    "We will be using SciKitLearn to perform:\n",
    "LDA (based on TF) and Non-Negative Matrix Factorization (based on TF-IDF)\n",
    "https://scikit-learn.org/stable/auto_examples/applications/plot_topics_extraction_with_nmf_lda.html"
   ]
  },
  {
   "cell_type": "code",
   "execution_count": null,
   "metadata": {},
   "outputs": [],
   "source": [
    "# WORD WEIGHTING: Count Vectorizer Parameters in sci-kit learn\n",
    "\"\"\"\n",
    "count_vectorizer = CountVectorizer(\n",
    "                             # input='content',                # content == list of items (strings or bytes)\n",
    "                             # analyzer='word',                # accepts to pass a callable, default='word'\n",
    "                             min_df=10,                        # minimum number of occurences of a word \n",
    "                             max_df=0.95,                      # maximum percentage of occurences\n",
    "                             # stop_words='english',           # only if analyzer=='word', default=None\n",
    "                             # tokenizer=None,                 # only if analyzer=='word', callable, default=None\n",
    "                             # lowercase=False,                # default=True\n",
    "                             # token_pattern='[a-zA-Z0-9]+[_-]*[a-zA-Z0-9]*[_-]*[a-zA-Z0-9]*',  # or '[a-zA-Z0-9]{3,}', only if analyzer=='word', default='(?u)\\\\b\\\\w\\\\w+\\\\b'\n",
    "                             # strip_accents=None,             # default=None\n",
    "                             # preprocessor=None,              # only if analyzer is not a callable, default=None\n",
    "                             # ngram_range=(1,3),              # only if analyzer is not a callable, default=(1,1)\n",
    "                             max_features=None,                # Ignored if vocabulary!=None, max n of unique words, default=None (i.e., considers all words),\n",
    "                             # vocabulary=None                 # id2word is a Gensim dictionary, Default=None, if != None, max_features is ignored\n",
    "                             # binary=False                    # default=False, if True, all non zero counts are set to 1 (suitable for classification, e.g., Bernoulli Naive Bayes)\n",
    "                            )\n",
    "\"\"\""
   ]
  },
  {
   "cell_type": "code",
   "execution_count": 43,
   "metadata": {},
   "outputs": [],
   "source": [
    "# We create this numpy array object for our analyses\n",
    "processed_text = df['processed'].values"
   ]
  },
  {
   "cell_type": "code",
   "execution_count": 44,
   "metadata": {},
   "outputs": [],
   "source": [
    "maximum_features = None # Let's use default unless you have computational limitations or other reason\n",
    "# both max_df=0.95 and min_df=2, coupled with maximum_features=None, will increase/decrease dimensionality\n",
    "# LDA can only use raw term counts because it is a probabilistic graphical model\n",
    "tf_vectorizer = CountVectorizer(max_df=0.95, min_df=2, max_features=maximum_features)"
   ]
  },
  {
   "cell_type": "code",
   "execution_count": 45,
   "metadata": {},
   "outputs": [
    {
     "data": {
      "text/plain": [
       "CountVectorizer(max_df=0.95, min_df=2)"
      ]
     },
     "execution_count": 45,
     "metadata": {},
     "output_type": "execute_result"
    }
   ],
   "source": [
    "tf_vectorizer"
   ]
  },
  {
   "cell_type": "code",
   "execution_count": 46,
   "metadata": {},
   "outputs": [],
   "source": [
    "# Learn a vocabulary dictionary of all tokens in the raw document (fit)\n",
    "# And return document-term matrix (transform)\n",
    "tf = tf_vectorizer.fit_transform(processed_text)"
   ]
  },
  {
   "cell_type": "code",
   "execution_count": 47,
   "metadata": {},
   "outputs": [],
   "source": [
    "# Array mapping from feature integer indices to feature names\n",
    "tf_feature_names = tf_vectorizer.get_feature_names()"
   ]
  },
  {
   "cell_type": "code",
   "execution_count": 48,
   "metadata": {},
   "outputs": [
    {
     "data": {
      "text/plain": [
       "(7899, 10722)"
      ]
     },
     "metadata": {},
     "output_type": "display_data"
    }
   ],
   "source": [
    "display(tf.shape)"
   ]
  },
  {
   "cell_type": "markdown",
   "metadata": {},
   "source": [
    "Finding the best LDA model parameters (ensemble learning with GridSearchCV)\n",
    "Exhaustive Grid Seach (GridSearchCV) exhaustively considers all parameter combinations\n",
    "https://scikit-learn.org/stable/modules/grid_search.html"
   ]
  },
  {
   "cell_type": "code",
   "execution_count": 49,
   "metadata": {},
   "outputs": [
    {
     "data": {
      "text/plain": [
       "'\\n# I did test different number of topics (between 10 and 30) using this script:\\n# WARNING: it takes much longer\\nn_topics = []\\nfor i in range (10,31):\\n    n_topics.append(i)\\nprint(n_topics)\\n'"
      ]
     },
     "execution_count": 49,
     "metadata": {},
     "output_type": "execute_result"
    }
   ],
   "source": [
    "# Based on the previous comparison (LSI, HDP, NMF, LDA), let's try with different numbers of topics:\n",
    "n_topics = [10, 15, 20]\n",
    "\"\"\"\n",
    "# I did test different number of topics (between 10 and 30) using this script:\n",
    "# WARNING: it takes much longer\n",
    "n_topics = []\n",
    "for i in range (10,31):\n",
    "    n_topics.append(i)\n",
    "print(n_topics)\n",
    "\"\"\""
   ]
  },
  {
   "cell_type": "code",
   "execution_count": 51,
   "metadata": {},
   "outputs": [
    {
     "data": {
      "text/plain": [
       "GridSearchCV(estimator=LatentDirichletAllocation(),\n",
       "             param_grid={'learning_decay': [0.5, 0.6, 0.7, 0.8, 0.9],\n",
       "                         'n_components': [10, 15, 20]})"
      ]
     },
     "execution_count": 51,
     "metadata": {},
     "output_type": "execute_result"
    }
   ],
   "source": [
    "# NOTE: This step takes a while\n",
    "# Define Search Param\n",
    "search_params = {'n_components': n_topics, 'learning_decay': [.5, .6, .7, .8, .9]}\n",
    "\n",
    "# Initiating the LDA Model\n",
    "lda_init = LatentDirichletAllocation()\n",
    "\n",
    "# Initating Sci-kit Learn Grid Search Class (GridSearchCV)\n",
    "model = GridSearchCV(lda_init, param_grid=search_params)\n",
    "\n",
    "# Do the Grid Search\n",
    "model.fit(tf)"
   ]
  },
  {
   "cell_type": "code",
   "execution_count": 52,
   "metadata": {},
   "outputs": [
    {
     "name": "stdout",
     "output_type": "stream",
     "text": [
      "Best Model's Params:  {'learning_decay': 0.5, 'n_components': 10}\n",
      "Best Log Likelihood Score:  -1125820.412502999\n",
      "Model Perplexity:  1098.1425104425605\n"
     ]
    }
   ],
   "source": [
    "# Best Model\n",
    "best_lda_model = model.best_estimator_\n",
    "\n",
    "# Model Parameters\n",
    "print(\"Best Model's Params: \", model.best_params_)\n",
    "\n",
    "# Log Likelihood Score\n",
    "print(\"Best Log Likelihood Score: \", model.best_score_)\n",
    "\n",
    "# Perplexity\n",
    "print(\"Model Perplexity: \", best_lda_model.perplexity(tf))\n",
    "\n",
    "# DONE! Based on the output, the best LDA model has these parameters:\n",
    "# 'learning_decay': 0.5, 'n_components': 10"
   ]
  },
  {
   "cell_type": "code",
   "execution_count": 53,
   "metadata": {},
   "outputs": [],
   "source": [
    "# Get Log Likelihoods from Grid Search Output\n",
    "log_likelihoods_5 = [round(model.cv_results_['mean_test_score'][index]) for index, gscore in enumerate(model.cv_results_['params']) if gscore['learning_decay']==0.5]\n",
    "log_likelihoods_6 = [round(model.cv_results_['mean_test_score'][index]) for index, gscore in enumerate(model.cv_results_['params']) if gscore['learning_decay']==0.6]\n",
    "log_likelihoods_7 = [round(model.cv_results_['mean_test_score'][index]) for index, gscore in enumerate(model.cv_results_['params']) if gscore['learning_decay']==0.7]\n",
    "log_likelihoods_8 = [round(model.cv_results_['mean_test_score'][index]) for index, gscore in enumerate(model.cv_results_['params']) if gscore['learning_decay']==0.8]\n",
    "log_likelihoods_9 = [round(model.cv_results_['mean_test_score'][index]) for index, gscore in enumerate(model.cv_results_['params']) if gscore['learning_decay']==0.9]"
   ]
  },
  {
   "cell_type": "code",
   "execution_count": 54,
   "metadata": {},
   "outputs": [
    {
     "data": {
      "image/png": "[encoded data removed]",
      "text/plain": [
       "<Figure size 864x576 with 1 Axes>"
      ]
     },
     "metadata": {
      "needs_background": "light"
     },
     "output_type": "display_data"
    }
   ],
   "source": [
    "# Show graph\n",
    "plt.figure(figsize=(12, 8))\n",
    "plt.plot(n_topics, log_likelihoods_5, label='0.5')\n",
    "plt.plot(n_topics, log_likelihoods_6, label='0.6')\n",
    "plt.plot(n_topics, log_likelihoods_7, label='0.7')\n",
    "plt.plot(n_topics, log_likelihoods_8, label='0.8')\n",
    "plt.plot(n_topics, log_likelihoods_9, label='0.9')\n",
    "plt.title(\"Choosing Optimal LDA Model\")\n",
    "plt.xlabel(\"Number of Topics\")\n",
    "plt.ylabel(\"Log Likelihood Scores\")\n",
    "plt.legend(title='Learning decay', loc='best')\n",
    "plt.show()"
   ]
  },
  {
   "cell_type": "code",
   "execution_count": 55,
   "metadata": {},
   "outputs": [
    {
     "name": "stdout",
     "output_type": "stream",
     "text": [
      "LatentDirichletAllocation(learning_decay=0.5, learning_method='online',\n",
      "                          learning_offset=50.0, n_jobs=-1, random_state=42)\n"
     ]
    }
   ],
   "source": [
    "# DECOMPOSITION: LDA with the best parameters found in the previous step\n",
    "lda_model = LatentDirichletAllocation(\n",
    "                n_components=k,             # Number of topics\n",
    "                # max_iter=10,              # Maximum number of iterations default=10\n",
    "                learning_method='online',   # Only in fit method: 'online' uses mini-batches, so it's faster than batch for large datasets\n",
    "                learning_decay=0.5,         # or 'kappa', it controls learning rate in the online learning method\n",
    "                learning_offset=50.,        # or 'tau_0', it downweights early iterations in the online learning method\n",
    "                random_state=42,            # For reproducible results across multiple function calls, default=None (i.e., different results)\n",
    "                # batch_size=128,           # only in online method, n docs in each learning iteration, default=128\n",
    "                # evaluate_every=-1,        # Only in fit method: computes perplexity every n iterations, default=0 (i.e, don't)\n",
    "                # perp_tol=1e-1             # Only when evaluate_every > 0, default=1e-1\n",
    "                # mean_change_tol=1e-3      # Stopping tolerance for updating document/topic distribution in the E-step, default=1e-3\n",
    "                n_jobs = -1                 # n jobs in the E-step, -1 == Use all available CPUs, default=None\n",
    "                # max_doc_update_iter=100   # Max n iterations for updating document/topic distribution in the E-step, default=100\n",
    "                # doc_topic_prior=None      # default=None (i.e., 1 / n_components, document/topic distribution, called theta or alpha)\n",
    "                # topic_word_prior=None     # default=None (i.e., 1 / n_components, topic/word distribution, called beta or eta)\n",
    "                # total_samples             # only used in partial_fit method\n",
    "                # verbose=0                 # Verbosity level, default=0\n",
    "                )\n",
    "\n",
    "# Show LDA model attributes\n",
    "print(lda_model)"
   ]
  },
  {
   "cell_type": "code",
   "execution_count": 56,
   "metadata": {},
   "outputs": [],
   "source": [
    "lda_fit_model = lda_model.fit(tf) #fit method"
   ]
  },
  {
   "cell_type": "code",
   "execution_count": 57,
   "metadata": {},
   "outputs": [
    {
     "name": "stdout",
     "output_type": "stream",
     "text": [
      "Log Likelihood:  -5154399.7375677135\n",
      "Perplexity:  1171.8615107458975\n",
      "{'batch_size': 128,\n",
      " 'doc_topic_prior': None,\n",
      " 'evaluate_every': -1,\n",
      " 'learning_decay': 0.5,\n",
      " 'learning_method': 'online',\n",
      " 'learning_offset': 50.0,\n",
      " 'max_doc_update_iter': 100,\n",
      " 'max_iter': 10,\n",
      " 'mean_change_tol': 0.001,\n",
      " 'n_components': 10,\n",
      " 'n_jobs': -1,\n",
      " 'perp_tol': 0.1,\n",
      " 'random_state': 42,\n",
      " 'topic_word_prior': None,\n",
      " 'total_samples': 1000000.0,\n",
      " 'verbose': 0}\n"
     ]
    }
   ],
   "source": [
    "# Log-likelihood: The higher the better\n",
    "print(\"Log Likelihood: \", lda_fit_model.score(tf))\n",
    "\n",
    "# Perplexity: The lower the better. Perplexity = exp(-1. * log-likelihood per word)\n",
    "print(\"Perplexity: \", lda_fit_model.perplexity(tf))\n",
    "\n",
    "# See model parameters\n",
    "pprint(lda_fit_model.get_params())"
   ]
  },
  {
   "cell_type": "code",
   "execution_count": null,
   "metadata": {},
   "outputs": [],
   "source": [
    "# WORD WEIGHTING: TF-IDF Vectorizer Parameters in sci-kit learn\n",
    "\"\"\"\n",
    "tfidf_vectorizer = TfidfVectorizer(\n",
    "                             # input='content',                # content == list of items (strings or bytes)\n",
    "                             # encoding='utf-8'                # default='utf-8'\n",
    "                             # strip_accents=None,             # default=None\n",
    "                             # lowercase=True,                 # default=True\n",
    "                             # strip_accents='unicode'         # default=None\n",
    "                             # preprocessor=None,              # callable, only if analyzer is not a callable, default=None\n",
    "                             # tokenizer=None,                 # only if analyzer=='word', callable, default=None\n",
    "                             # analyzer='word',                # accepts to pass a callable, default='word'\n",
    "                             min_df=10,                        # minimum number of occurences of a word \n",
    "                             max_df=0.95,                      # maximum percentage of occurences\n",
    "                             # stop_words='english',           # only if analyzer=='word', default=None, you can pass a list too\n",
    "                             # token_pattern='[a-zA-Z0-9]+[_-]*[a-zA-Z0-9]*[_-]*[a-zA-Z0-9]*',  # or '[a-zA-Z0-9]{3,}', only if analyzer=='word', default='(?u)\\\\b\\\\w\\\\w+\\\\b'\n",
    "                             # ngram_range=(1,3),              # only if analyzer is not a callable, default=(1,1)\n",
    "                             max_features=None,                # Ignored if vocabulary!=None, max n of unique words, default=None (i.e., considers all words),\n",
    "                             # vocabulary=None                 # id2word is a Gensim dictionary, Default=None, if != None, max_features is ignored\n",
    "                             # binary=False                    # default=False, if True, all non zero counts are set to 1. Very short texts are likely to have noisy tf-idf values while binary occurences is more stable.\n",
    "                             # norm='l2'                       # default='l2', each output row will have unit norm (l2 or l1)\n",
    "                             # smooth_idf=False                # default=False, prevents zero division by adding 1 to document frequencies\n",
    "                             # sublinear_tf=False              # default=False, applies sublinear tf scaling: replaces tf with 1 + log(tf)\n",
    "                            )\n",
    "\"\"\""
   ]
  },
  {
   "cell_type": "code",
   "execution_count": 58,
   "metadata": {},
   "outputs": [],
   "source": [
    "# TF-IDF VECTORIZATION PARAMETERS FOR NMF:\n",
    "# We set before: maximum_features = None # default\n",
    "# TF-IDF Vectorization parameters for NMF (NMF is able to use tf-idf)\n",
    "tfidf_vectorizer = TfidfVectorizer(max_df=0.95, min_df=2, max_features=maximum_features)"
   ]
  },
  {
   "cell_type": "code",
   "execution_count": 59,
   "metadata": {},
   "outputs": [],
   "source": [
    "tfidf = tfidf_vectorizer.fit_transform(processed_text)\n",
    "tfidf_feature_names = tfidf_vectorizer.get_feature_names()"
   ]
  },
  {
   "cell_type": "code",
   "execution_count": 60,
   "metadata": {},
   "outputs": [
    {
     "data": {
      "text/plain": [
       "(7899, 10722)"
      ]
     },
     "metadata": {},
     "output_type": "display_data"
    }
   ],
   "source": [
    "display(tfidf.shape)"
   ]
  },
  {
   "cell_type": "code",
   "execution_count": null,
   "metadata": {},
   "outputs": [],
   "source": [
    "\"\"\"\n",
    "NMF PARAMETERS:\n",
    "                NMF(\n",
    "                # n_components=k             # number of topics to extract (int or None), if not set, all features are kept\n",
    "                # init=None                  # default=None ('nndsvd' if n_components <= min(n_samples, n_features), \n",
    "                                               otherwise random), \n",
    "                                               'random' (non-negative random matrices, scaled with sqrt(X.mean()/n_components)), \n",
    "                                               'nndsvd' (non-negative double singular value decomposition: initialization (better for sparseness)),\n",
    "                                               'nndsvda' (nndsvd with zeros filled with the average of X: better when sparsity is not desired)\n",
    "                                               'nndsvdar' (nndsvd with zeros filled with small random values: generally faster, \n",
    "                                                           less accurate alternative to NNDSVDa for when sparsity is not desired)\n",
    "                                               'custom' (use custom matrices W and H)\n",
    "\n",
    "                # solver='mu'                 # 'cd' (Coordinate Descent solver), 'mu' (Multiplicative Update solver)\n",
    "                # beta_loss='frobenius'       # use only in 'mu' solver; Beta divergence to be minimized, measuring the distance between X and the dot product WH.\n",
    "                                                float or string: \n",
    "                                                string must be in {'frobenius', 'kullback-leibler', 'itakura-saito'}\n",
    "                                                Values different from 2 ('frobenius') and 1 ('kullback-leibler'), lead to significantly slower fit.\n",
    "                                                For beta_loss <=0 ('itakura-saito'), the input matrix X cannot contain zeros.\n",
    "                # tol=1e-4                    # float, default=1e-4; tolerance of the stopping condition\n",
    "                # max_iter=200                # default=200\n",
    "                # random_state=43             # Used for initialisation (when init=='nndsvdar' or 'random'),\n",
    "                                                and in Coordinate Descent solver.\n",
    "                # alpha=0                     # double, default=0; constant that multiplies the regularization terms. 0 == no regularization.\n",
    "                # l1_ratio=0                  # double, default=0; the regularization mixing parameter, with 0 <= l1_ratio <= 1\n",
    "                                                For l1_ratio=0 the penalty is an elementwise L2 (aka Frobenius norm).\n",
    "                                                For l1_ratio=1 the penalty is an elementwise L1.\n",
    "                                                For 0 < l1_ratio < 1 the penaltyis a combination of L1 and L2\n",
    "                # verbose=False               # default=False, whether to be verbose\n",
    "                # shuffle=False               # default=False, if True, randomize the order of coordinates in the CD solver\n",
    "                )\n",
    "# References:\n",
    "Cichoki, A. & Ann-Huy, P. H. A. N. (2009). Fast local algorithms for large scale nonnegative matrix and tensor factorizations.\n",
    "IEICE Transactions on Fundamentals of Electronics, Communications, and Computer Sciences, 92(3), 708-721.\n",
    "\n",
    "Fevotte, C. & Idier, J. (2011). Algorithms for nonnegative matrix factorization with the beta divergence. \n",
    "Neural Computation, 23(9)\n",
    "\n",
    "\"\"\""
   ]
  },
  {
   "cell_type": "code",
   "execution_count": 61,
   "metadata": {},
   "outputs": [],
   "source": [
    "# Run NMF\n",
    "# nmf = NMF(n_components=no_topics, random_state=43,  alpha=0.1, l1_ratio=0.5)\n",
    "# nmf_output = nmf.fit_transform(tfidf)\n",
    "nmf_param = NMF(n_components=k, random_state=1, alpha=.1, l1_ratio=.5, init='nndsvd') # init='nndsvd'"
   ]
  },
  {
   "cell_type": "code",
   "execution_count": 62,
   "metadata": {},
   "outputs": [],
   "source": [
    "nmf_fit = nmf_param.fit(tfidf) # fit method"
   ]
  },
  {
   "cell_type": "code",
   "execution_count": 63,
   "metadata": {},
   "outputs": [],
   "source": [
    "nmf_weights = nmf_fit.components_\n",
    "lda_weights = lda_fit_model.components_"
   ]
  },
  {
   "cell_type": "code",
   "execution_count": 64,
   "metadata": {},
   "outputs": [],
   "source": [
    "# Function do display topics  words and their weights\n",
    "def get_topics_terms_weights(weights, feature_names):\n",
    "    feature_names = np.array(feature_names)\n",
    "    sorted_indices = np.array([list(row[::-1]) for row in np.argsort(np.abs(weights))])\n",
    "    sorted_weights = np.array([list(wt[index]) for wt, index in zip(weights, sorted_indices)])\n",
    "    sorted_terms = np.array([list(feature_names[row]) for row in sorted_indices])\n",
    "    topics = [np.vstack((terms.T, term_weights.T)).T for terms, term_weights in zip(sorted_terms, sorted_weights)]\n",
    "    return topics"
   ]
  },
  {
   "cell_type": "code",
   "execution_count": 65,
   "metadata": {},
   "outputs": [],
   "source": [
    "# Function to print components of all the topics\n",
    "def print_topics_udf(topics, total_topics=1,\n",
    "                     weight_threshold=0.0001,\n",
    "                     display_weights=False,\n",
    "                     num_terms=None):\n",
    "\n",
    "    for index in range(total_topics):\n",
    "        topic = topics[index]\n",
    "        topic = [(term, float(wt))\n",
    "                 for term, wt in topic]\n",
    "        #print(topic)\n",
    "        topic = [(word, round(wt,2))\n",
    "                 for word, wt in topic\n",
    "                 if abs(wt) >= weight_threshold]\n",
    "\n",
    "        if display_weights:\n",
    "            print('Topic #'+str(index+1)+' with weights')\n",
    "            print(topic[:num_terms]) if num_terms else topic\n",
    "        else:\n",
    "            print('Topic #'+str(index+1)+' without weights')\n",
    "            tw = [term for term, wt in topic]\n",
    "            print(tw[:num_terms]) if num_terms else tw"
   ]
  },
  {
   "cell_type": "code",
   "execution_count": 66,
   "metadata": {},
   "outputs": [],
   "source": [
    "# Function to print topic terms\n",
    "def get_topics_udf(topics, total_topics=1,\n",
    "                     weight_threshold=0.0001,\n",
    "                     num_terms=None):\n",
    "    topic_terms = []\n",
    "    for index in range(total_topics):\n",
    "        topic = topics[index]\n",
    "        topic = [(term, float(wt))\n",
    "                 for term, wt in topic]\n",
    "        #print(topic)\n",
    "        topic = [(word, round(wt,2))\n",
    "                 for word, wt in topic\n",
    "                 if abs(wt) >= weight_threshold]\n",
    "        topic_terms.append(topic[:num_terms] if num_terms else topic)\n",
    "    return topic_terms"
   ]
  },
  {
   "cell_type": "code",
   "execution_count": 67,
   "metadata": {},
   "outputs": [],
   "source": [
    "# Function to display topics\n",
    "def display_topics(model, feature_names, no_top_words):\n",
    "    for topic_idx, topic in enumerate(model.components_):\n",
    "        print(\"Topic %d:\" % (topic_idx))\n",
    "        print(\" \".join([feature_names[i]\n",
    "                        for i in topic.argsort()[:-no_top_words - 1:-1]]))"
   ]
  },
  {
   "cell_type": "code",
   "execution_count": 68,
   "metadata": {},
   "outputs": [
    {
     "name": "stdout",
     "output_type": "stream",
     "text": [
      "Topic #1 with weights\n",
      "[('eat', 2.41), ('disorder', 2.29), ('eating', 1.16), ('symptom', 0.91), ('self', 0.83), ('score', 0.8), ('high', 0.7), ('factor', 0.69), ('risk', 0.65), ('sample', 0.62)]\n",
      "Topic #2 with weights\n",
      "[('body', 3.73), ('image', 1.98), ('dissatisfaction', 1.46), ('size', 0.67), ('disturbance', 0.44), ('ideal', 0.44), ('esteem', 0.43), ('girl', 0.42), ('appearance', 0.4), ('self', 0.37)]\n",
      "Topic #3 with weights\n",
      "[('bed', 4.09), ('obese', 0.56), ('binge', 0.48), ('individual', 0.28), ('disorder', 0.27), ('obesity', 0.23), ('criterion', 0.22), ('subject', 0.19), ('psychopathology', 0.18), ('diagnostic', 0.16)]\n",
      "Topic #4 with weights\n",
      "[('weight', 3.95), ('loss', 1.16), ('bmi', 0.9), ('overweight', 0.73), ('gain', 0.71), ('obese', 0.68), ('obesity', 0.67), ('normal', 0.49), ('control', 0.48), ('diet', 0.47)]\n",
      "Topic #5 with weights\n",
      "[('patient', 3.48), ('nervosa', 2.04), ('anorexia', 1.79), ('bulimia', 1.0), ('case', 0.81), ('disorder', 0.54), ('group', 0.51), ('clinical', 0.43), ('bulimic', 0.43), ('present', 0.38)]\n",
      "Topic #6 with weights\n",
      "[('treatment', 3.34), ('outcome', 1.12), ('therapy', 0.8), ('cbt', 0.79), ('intervention', 0.64), ('change', 0.62), ('program', 0.62), ('follow', 0.58), ('improvement', 0.47), ('fbt', 0.42)]\n",
      "Topic #7 with weights\n",
      "[('child', 2.89), ('family', 2.0), ('parent', 1.51), ('mother', 1.12), ('adolescent', 0.89), ('parental', 0.57), ('maternal', 0.48), ('girl', 0.46), ('fbt', 0.32), ('father', 0.28)]\n",
      "Topic #8 with weights\n",
      "[('binge', 3.8), ('eating', 1.17), ('episode', 1.01), ('eat', 0.5), ('purge', 0.49), ('food', 0.46), ('frequency', 0.46), ('eater', 0.45), ('behavior', 0.39), ('report', 0.38)]\n",
      "Topic #9 with weights\n",
      "[('woman', 4.12), ('man', 1.69), ('bulimic', 0.76), ('group', 0.61), ('bulimia', 0.51), ('report', 0.39), ('black', 0.37), ('white', 0.36), ('pregnancy', 0.34), ('young', 0.33)]\n",
      "Topic #10 with weights\n",
      "[('bn', 4.02), ('ednos', 0.53), ('bulimia', 0.51), ('nervosa', 0.39), ('pd', 0.19), ('lifetime', 0.18), ('disorder', 0.17), ('purge', 0.17), ('rate', 0.15), ('compare', 0.14)]\n"
     ]
    }
   ],
   "source": [
    "# Show NMF topics with their weights\n",
    "topics = get_topics_terms_weights(nmf_weights, tfidf_feature_names)\n",
    "print_topics_udf(topics, total_topics=10, num_terms=10, display_weights=True)"
   ]
  },
  {
   "cell_type": "code",
   "execution_count": 69,
   "metadata": {},
   "outputs": [
    {
     "name": "stdout",
     "output_type": "stream",
     "text": [
      "Topic #1 with weights\n",
      "[('eat', 3294.51), ('disorder', 2104.52), ('woman', 1964.32), ('eating', 1343.05), ('female', 1330.6), ('self', 1306.7), ('attitude', 1279.8), ('male', 1145.7), ('girl', 1106.03), ('risk', 1067.94)]\n",
      "Topic #2 with weights\n",
      "[('treatment', 6857.48), ('patient', 6562.44), ('disorder', 5323.93), ('nervosa', 3902.8), ('anorexia', 3005.68), ('eat', 1862.23), ('outcome', 1664.01), ('eating', 1474.74), ('follow', 1280.74), ('clinical', 1259.25)]\n",
      "Topic #3 with weights\n",
      "[('eat', 9004.37), ('disorder', 8665.1), ('eating', 4991.2), ('binge', 3061.04), ('score', 2445.37), ('group', 2437.8), ('result', 2350.01), ('symptom', 2256.63), ('high', 2227.5), ('self', 2132.34)]\n",
      "Topic #4 with weights\n",
      "[('food', 1475.5), ('disorder', 867.25), ('eat', 849.91), ('result', 750.0), ('self', 704.12), ('participant', 702.17), ('individual', 680.18), ('group', 650.2), ('model', 647.3), ('control', 646.86)]\n",
      "Topic #5 with weights\n",
      "[('patient', 723.3), ('anorexia', 362.69), ('nervosa', 323.89), ('control', 278.87), ('activity', 267.55), ('level', 232.98), ('bariatric_surgery', 231.04), ('surgery', 197.2), ('anorectic', 187.9), ('fa', 169.11)]\n",
      "Topic #6 with weights\n",
      "[('child', 1730.22), ('family', 1602.15), ('parent', 988.99), ('emotional', 748.87), ('adolescent', 710.44), ('mother', 689.49), ('relationship', 509.69), ('factor', 437.9), ('parental', 427.35), ('model', 409.08)]\n",
      "Topic #7 with weights\n",
      "[('sleep', 277.59), ('food_addiction', 176.12), ('yfas', 160.12), ('drug', 158.35), ('placebo', 109.45), ('effect', 87.21), ('neuroticism', 77.88), ('week', 75.26), ('medication', 69.35), ('obe', 62.49)]\n",
      "Topic #8 with weights\n",
      "[('weight', 6284.55), ('body', 5548.69), ('image', 1556.21), ('group', 1185.42), ('loss', 1045.64), ('obese', 931.77), ('bmi', 923.17), ('overweight', 912.33), ('control', 877.35), ('dissatisfaction', 796.64)]\n",
      "Topic #9 with weights\n",
      "[('bmi', 940.75), ('level', 623.03), ('high', 553.87), ('low', 536.09), ('obesity', 475.93), ('patient', 445.58), ('age', 430.4), ('ci', 371.98), ('increase', 347.95), ('risk', 337.95)]\n",
      "Topic #10 with weights\n",
      "[('patient', 207.65), ('nssi', 198.48), ('severe', 157.8), ('complication', 147.81), ('cause', 125.42), ('history', 116.83), ('death', 98.2), ('report', 98.05), ('oral', 92.0), ('medical', 90.77)]\n"
     ]
    }
   ],
   "source": [
    "# Show LDA topics with their weights\n",
    "topics = get_topics_terms_weights(lda_weights, tf_feature_names)\n",
    "print_topics_udf(topics, total_topics=10, num_terms=10, display_weights=True)"
   ]
  },
  {
   "cell_type": "code",
   "execution_count": 70,
   "metadata": {},
   "outputs": [
    {
     "name": "stdout",
     "output_type": "stream",
     "text": [
      "NMF results - Top 10 words for each cluster:\n",
      "\n",
      "Topic 0:\n",
      "eat disorder eating symptom self score high factor risk sample\n",
      "Topic 1:\n",
      "body image dissatisfaction size disturbance ideal esteem girl appearance self\n",
      "Topic 2:\n",
      "bed obese binge individual disorder obesity criterion subject psychopathology diagnostic\n",
      "Topic 3:\n",
      "weight loss bmi overweight gain obese obesity normal control diet\n",
      "Topic 4:\n",
      "patient nervosa anorexia bulimia case disorder group clinical bulimic present\n",
      "Topic 5:\n",
      "treatment outcome therapy cbt intervention change program follow improvement fbt\n",
      "Topic 6:\n",
      "child family parent mother adolescent parental maternal girl fbt father\n",
      "Topic 7:\n",
      "binge eating episode eat purge food frequency eater behavior report\n",
      "Topic 8:\n",
      "woman man bulimic group bulimia report black white pregnancy young\n",
      "Topic 9:\n",
      "bn ednos bulimia nervosa pd lifetime disorder purge rate compare\n",
      "\n",
      "LDA results - Top 10 words for each cluster:\n",
      "\n",
      "Topic 0:\n",
      "eat disorder woman eating female self attitude male girl risk\n",
      "Topic 1:\n",
      "treatment patient disorder nervosa anorexia eat outcome eating follow clinical\n",
      "Topic 2:\n",
      "eat disorder eating binge score group result symptom high self\n",
      "Topic 3:\n",
      "food disorder eat result self participant individual group model control\n",
      "Topic 4:\n",
      "patient anorexia nervosa control activity level bariatric_surgery surgery anorectic fa\n",
      "Topic 5:\n",
      "child family parent emotional adolescent mother relationship factor parental model\n",
      "Topic 6:\n",
      "sleep food_addiction yfas drug placebo effect neuroticism week medication obe\n",
      "Topic 7:\n",
      "weight body image group loss obese bmi overweight control dissatisfaction\n",
      "Topic 8:\n",
      "bmi level high low obesity patient age ci increase risk\n",
      "Topic 9:\n",
      "patient nssi severe complication cause history death report oral medical\n"
     ]
    }
   ],
   "source": [
    "# Displaying top words for each topic for each model (NMF and LDA)\n",
    "no_top_words = 10\n",
    "print('NMF results - Top ' + str(no_top_words) + ' words for each cluster:' + '\\n')\n",
    "display_topics(nmf_fit, tfidf_feature_names, no_top_words)\n",
    "print('\\n' + 'LDA results - Top ' + str(no_top_words) + ' words for each cluster:' + '\\n')\n",
    "display_topics(lda_fit_model, tf_feature_names, no_top_words)\n",
    "# Based on the output, we keep NMF rather than LDA"
   ]
  },
  {
   "cell_type": "code",
   "execution_count": null,
   "metadata": {},
   "outputs": [],
   "source": [
    "####################################################\n",
    "### IN THE REST OF ANALYSES WE WILL BE USING NMF ###\n",
    "####################################################"
   ]
  },
  {
   "cell_type": "code",
   "execution_count": 71,
   "metadata": {},
   "outputs": [],
   "source": [
    "# Create Document-Topic Matrix for NMF\n",
    "nmf_output = nmf_fit.transform(tfidf)\n",
    "# Which is basically the same as:\n",
    "# nmf_output = nmf_model.fit_transform(tfidf)"
   ]
  },
  {
   "cell_type": "code",
   "execution_count": 72,
   "metadata": {},
   "outputs": [],
   "source": [
    "###########################################\n",
    "### NMF - DOMINANT TOPIC IN EACH RECORD ###\n",
    "###########################################\n",
    "\n",
    "# Column names\n",
    "nmf_topic_names = [\"NMF_Topic_\" + str(i) for i in range(k)]# from best_lda_model.n_components\n",
    "\n",
    "# Index names\n",
    "doc_id = [\"Doc_\" + str(i) for i in range(len(df['Abstract']))]\n",
    "\n",
    "# We build a Pandas data frame\n",
    "nmf_topics_df = pd.DataFrame(np.round(nmf_output, 2), columns=nmf_topic_names, index=doc_id)\n",
    "\n",
    "# Get dominant topic for each document\n",
    "nmf_topic = np.argmax(nmf_topics_df.values, axis=1)\n",
    "\n",
    "# Populating columns\n",
    "nmf_topics_df['nmf_topic'] = nmf_topic"
   ]
  },
  {
   "cell_type": "code",
   "execution_count": 73,
   "metadata": {},
   "outputs": [],
   "source": [
    "# Some color for our dataframe\n",
    "def red_color(val):\n",
    "    color = 'red' if val > .1 else 'black'\n",
    "    return 'color: {col}'.format(col=color)\n",
    "\n",
    "# Some color for our dataframe\n",
    "def blue_color(val):\n",
    "    color = 'blue' if val > 0 else 'black'\n",
    "    return 'color: {col}'.format(col=color)\n",
    "\n",
    "def bolder(val):\n",
    "    weight = 650 if val > 0 else 350\n",
    "    return 'font-weight: {weight}'.format(weight=weight)\n",
    "\n",
    "# Applying this color to our data frame\n",
    "NMF_df_dominant_topics = nmf_topics_df.head(15).style.applymap(blue_color).applymap(bolder)"
   ]
  },
  {
   "cell_type": "code",
   "execution_count": 74,
   "metadata": {},
   "outputs": [
    {
     "data": {
      "text/html": [
       "<style  type=\"text/css\" >\n",
       "#T_b77a0576_6722_11eb_b6fc_525400c7b32arow0_col0,#T_b77a0576_6722_11eb_b6fc_525400c7b32arow0_col7,#T_b77a0576_6722_11eb_b6fc_525400c7b32arow0_col10,#T_b77a0576_6722_11eb_b6fc_525400c7b32arow1_col3,#T_b77a0576_6722_11eb_b6fc_525400c7b32arow1_col5,#T_b77a0576_6722_11eb_b6fc_525400c7b32arow1_col6,#T_b77a0576_6722_11eb_b6fc_525400c7b32arow1_col10,#T_b77a0576_6722_11eb_b6fc_525400c7b32arow2_col0,#T_b77a0576_6722_11eb_b6fc_525400c7b32arow2_col3,#T_b77a0576_6722_11eb_b6fc_525400c7b32arow2_col4,#T_b77a0576_6722_11eb_b6fc_525400c7b32arow2_col10,#T_b77a0576_6722_11eb_b6fc_525400c7b32arow3_col0,#T_b77a0576_6722_11eb_b6fc_525400c7b32arow3_col5,#T_b77a0576_6722_11eb_b6fc_525400c7b32arow3_col10,#T_b77a0576_6722_11eb_b6fc_525400c7b32arow4_col0,#T_b77a0576_6722_11eb_b6fc_525400c7b32arow4_col4,#T_b77a0576_6722_11eb_b6fc_525400c7b32arow4_col6,#T_b77a0576_6722_11eb_b6fc_525400c7b32arow5_col0,#T_b77a0576_6722_11eb_b6fc_525400c7b32arow5_col3,#T_b77a0576_6722_11eb_b6fc_525400c7b32arow5_col5,#T_b77a0576_6722_11eb_b6fc_525400c7b32arow6_col3,#T_b77a0576_6722_11eb_b6fc_525400c7b32arow6_col5,#T_b77a0576_6722_11eb_b6fc_525400c7b32arow6_col7,#T_b77a0576_6722_11eb_b6fc_525400c7b32arow6_col10,#T_b77a0576_6722_11eb_b6fc_525400c7b32arow7_col0,#T_b77a0576_6722_11eb_b6fc_525400c7b32arow7_col3,#T_b77a0576_6722_11eb_b6fc_525400c7b32arow7_col7,#T_b77a0576_6722_11eb_b6fc_525400c7b32arow8_col0,#T_b77a0576_6722_11eb_b6fc_525400c7b32arow8_col4,#T_b77a0576_6722_11eb_b6fc_525400c7b32arow8_col9,#T_b77a0576_6722_11eb_b6fc_525400c7b32arow8_col10,#T_b77a0576_6722_11eb_b6fc_525400c7b32arow9_col0,#T_b77a0576_6722_11eb_b6fc_525400c7b32arow9_col7,#T_b77a0576_6722_11eb_b6fc_525400c7b32arow9_col10,#T_b77a0576_6722_11eb_b6fc_525400c7b32arow10_col0,#T_b77a0576_6722_11eb_b6fc_525400c7b32arow10_col8,#T_b77a0576_6722_11eb_b6fc_525400c7b32arow10_col9,#T_b77a0576_6722_11eb_b6fc_525400c7b32arow10_col10,#T_b77a0576_6722_11eb_b6fc_525400c7b32arow11_col0,#T_b77a0576_6722_11eb_b6fc_525400c7b32arow11_col1,#T_b77a0576_6722_11eb_b6fc_525400c7b32arow11_col3,#T_b77a0576_6722_11eb_b6fc_525400c7b32arow11_col6,#T_b77a0576_6722_11eb_b6fc_525400c7b32arow11_col10,#T_b77a0576_6722_11eb_b6fc_525400c7b32arow12_col0,#T_b77a0576_6722_11eb_b6fc_525400c7b32arow12_col2,#T_b77a0576_6722_11eb_b6fc_525400c7b32arow12_col5,#T_b77a0576_6722_11eb_b6fc_525400c7b32arow12_col7,#T_b77a0576_6722_11eb_b6fc_525400c7b32arow12_col8,#T_b77a0576_6722_11eb_b6fc_525400c7b32arow12_col9,#T_b77a0576_6722_11eb_b6fc_525400c7b32arow12_col10,#T_b77a0576_6722_11eb_b6fc_525400c7b32arow13_col0,#T_b77a0576_6722_11eb_b6fc_525400c7b32arow13_col1,#T_b77a0576_6722_11eb_b6fc_525400c7b32arow14_col2,#T_b77a0576_6722_11eb_b6fc_525400c7b32arow14_col5,#T_b77a0576_6722_11eb_b6fc_525400c7b32arow14_col7,#T_b77a0576_6722_11eb_b6fc_525400c7b32arow14_col8,#T_b77a0576_6722_11eb_b6fc_525400c7b32arow14_col10{\n",
       "            color:  blue;\n",
       "            font-weight:  650;\n",
       "        }#T_b77a0576_6722_11eb_b6fc_525400c7b32arow0_col1,#T_b77a0576_6722_11eb_b6fc_525400c7b32arow0_col2,#T_b77a0576_6722_11eb_b6fc_525400c7b32arow0_col3,#T_b77a0576_6722_11eb_b6fc_525400c7b32arow0_col4,#T_b77a0576_6722_11eb_b6fc_525400c7b32arow0_col5,#T_b77a0576_6722_11eb_b6fc_525400c7b32arow0_col6,#T_b77a0576_6722_11eb_b6fc_525400c7b32arow0_col8,#T_b77a0576_6722_11eb_b6fc_525400c7b32arow0_col9,#T_b77a0576_6722_11eb_b6fc_525400c7b32arow1_col0,#T_b77a0576_6722_11eb_b6fc_525400c7b32arow1_col1,#T_b77a0576_6722_11eb_b6fc_525400c7b32arow1_col2,#T_b77a0576_6722_11eb_b6fc_525400c7b32arow1_col4,#T_b77a0576_6722_11eb_b6fc_525400c7b32arow1_col7,#T_b77a0576_6722_11eb_b6fc_525400c7b32arow1_col8,#T_b77a0576_6722_11eb_b6fc_525400c7b32arow1_col9,#T_b77a0576_6722_11eb_b6fc_525400c7b32arow2_col1,#T_b77a0576_6722_11eb_b6fc_525400c7b32arow2_col2,#T_b77a0576_6722_11eb_b6fc_525400c7b32arow2_col5,#T_b77a0576_6722_11eb_b6fc_525400c7b32arow2_col6,#T_b77a0576_6722_11eb_b6fc_525400c7b32arow2_col7,#T_b77a0576_6722_11eb_b6fc_525400c7b32arow2_col8,#T_b77a0576_6722_11eb_b6fc_525400c7b32arow2_col9,#T_b77a0576_6722_11eb_b6fc_525400c7b32arow3_col1,#T_b77a0576_6722_11eb_b6fc_525400c7b32arow3_col2,#T_b77a0576_6722_11eb_b6fc_525400c7b32arow3_col3,#T_b77a0576_6722_11eb_b6fc_525400c7b32arow3_col4,#T_b77a0576_6722_11eb_b6fc_525400c7b32arow3_col6,#T_b77a0576_6722_11eb_b6fc_525400c7b32arow3_col7,#T_b77a0576_6722_11eb_b6fc_525400c7b32arow3_col8,#T_b77a0576_6722_11eb_b6fc_525400c7b32arow3_col9,#T_b77a0576_6722_11eb_b6fc_525400c7b32arow4_col1,#T_b77a0576_6722_11eb_b6fc_525400c7b32arow4_col2,#T_b77a0576_6722_11eb_b6fc_525400c7b32arow4_col3,#T_b77a0576_6722_11eb_b6fc_525400c7b32arow4_col5,#T_b77a0576_6722_11eb_b6fc_525400c7b32arow4_col7,#T_b77a0576_6722_11eb_b6fc_525400c7b32arow4_col8,#T_b77a0576_6722_11eb_b6fc_525400c7b32arow4_col9,#T_b77a0576_6722_11eb_b6fc_525400c7b32arow4_col10,#T_b77a0576_6722_11eb_b6fc_525400c7b32arow5_col1,#T_b77a0576_6722_11eb_b6fc_525400c7b32arow5_col2,#T_b77a0576_6722_11eb_b6fc_525400c7b32arow5_col4,#T_b77a0576_6722_11eb_b6fc_525400c7b32arow5_col6,#T_b77a0576_6722_11eb_b6fc_525400c7b32arow5_col7,#T_b77a0576_6722_11eb_b6fc_525400c7b32arow5_col8,#T_b77a0576_6722_11eb_b6fc_525400c7b32arow5_col9,#T_b77a0576_6722_11eb_b6fc_525400c7b32arow5_col10,#T_b77a0576_6722_11eb_b6fc_525400c7b32arow6_col0,#T_b77a0576_6722_11eb_b6fc_525400c7b32arow6_col1,#T_b77a0576_6722_11eb_b6fc_525400c7b32arow6_col2,#T_b77a0576_6722_11eb_b6fc_525400c7b32arow6_col4,#T_b77a0576_6722_11eb_b6fc_525400c7b32arow6_col6,#T_b77a0576_6722_11eb_b6fc_525400c7b32arow6_col8,#T_b77a0576_6722_11eb_b6fc_525400c7b32arow6_col9,#T_b77a0576_6722_11eb_b6fc_525400c7b32arow7_col1,#T_b77a0576_6722_11eb_b6fc_525400c7b32arow7_col2,#T_b77a0576_6722_11eb_b6fc_525400c7b32arow7_col4,#T_b77a0576_6722_11eb_b6fc_525400c7b32arow7_col5,#T_b77a0576_6722_11eb_b6fc_525400c7b32arow7_col6,#T_b77a0576_6722_11eb_b6fc_525400c7b32arow7_col8,#T_b77a0576_6722_11eb_b6fc_525400c7b32arow7_col9,#T_b77a0576_6722_11eb_b6fc_525400c7b32arow7_col10,#T_b77a0576_6722_11eb_b6fc_525400c7b32arow8_col1,#T_b77a0576_6722_11eb_b6fc_525400c7b32arow8_col2,#T_b77a0576_6722_11eb_b6fc_525400c7b32arow8_col3,#T_b77a0576_6722_11eb_b6fc_525400c7b32arow8_col5,#T_b77a0576_6722_11eb_b6fc_525400c7b32arow8_col6,#T_b77a0576_6722_11eb_b6fc_525400c7b32arow8_col7,#T_b77a0576_6722_11eb_b6fc_525400c7b32arow8_col8,#T_b77a0576_6722_11eb_b6fc_525400c7b32arow9_col1,#T_b77a0576_6722_11eb_b6fc_525400c7b32arow9_col2,#T_b77a0576_6722_11eb_b6fc_525400c7b32arow9_col3,#T_b77a0576_6722_11eb_b6fc_525400c7b32arow9_col4,#T_b77a0576_6722_11eb_b6fc_525400c7b32arow9_col5,#T_b77a0576_6722_11eb_b6fc_525400c7b32arow9_col6,#T_b77a0576_6722_11eb_b6fc_525400c7b32arow9_col8,#T_b77a0576_6722_11eb_b6fc_525400c7b32arow9_col9,#T_b77a0576_6722_11eb_b6fc_525400c7b32arow10_col1,#T_b77a0576_6722_11eb_b6fc_525400c7b32arow10_col2,#T_b77a0576_6722_11eb_b6fc_525400c7b32arow10_col3,#T_b77a0576_6722_11eb_b6fc_525400c7b32arow10_col4,#T_b77a0576_6722_11eb_b6fc_525400c7b32arow10_col5,#T_b77a0576_6722_11eb_b6fc_525400c7b32arow10_col6,#T_b77a0576_6722_11eb_b6fc_525400c7b32arow10_col7,#T_b77a0576_6722_11eb_b6fc_525400c7b32arow11_col2,#T_b77a0576_6722_11eb_b6fc_525400c7b32arow11_col4,#T_b77a0576_6722_11eb_b6fc_525400c7b32arow11_col5,#T_b77a0576_6722_11eb_b6fc_525400c7b32arow11_col7,#T_b77a0576_6722_11eb_b6fc_525400c7b32arow11_col8,#T_b77a0576_6722_11eb_b6fc_525400c7b32arow11_col9,#T_b77a0576_6722_11eb_b6fc_525400c7b32arow12_col1,#T_b77a0576_6722_11eb_b6fc_525400c7b32arow12_col3,#T_b77a0576_6722_11eb_b6fc_525400c7b32arow12_col4,#T_b77a0576_6722_11eb_b6fc_525400c7b32arow12_col6,#T_b77a0576_6722_11eb_b6fc_525400c7b32arow13_col2,#T_b77a0576_6722_11eb_b6fc_525400c7b32arow13_col3,#T_b77a0576_6722_11eb_b6fc_525400c7b32arow13_col4,#T_b77a0576_6722_11eb_b6fc_525400c7b32arow13_col5,#T_b77a0576_6722_11eb_b6fc_525400c7b32arow13_col6,#T_b77a0576_6722_11eb_b6fc_525400c7b32arow13_col7,#T_b77a0576_6722_11eb_b6fc_525400c7b32arow13_col8,#T_b77a0576_6722_11eb_b6fc_525400c7b32arow13_col9,#T_b77a0576_6722_11eb_b6fc_525400c7b32arow13_col10,#T_b77a0576_6722_11eb_b6fc_525400c7b32arow14_col0,#T_b77a0576_6722_11eb_b6fc_525400c7b32arow14_col1,#T_b77a0576_6722_11eb_b6fc_525400c7b32arow14_col3,#T_b77a0576_6722_11eb_b6fc_525400c7b32arow14_col4,#T_b77a0576_6722_11eb_b6fc_525400c7b32arow14_col6,#T_b77a0576_6722_11eb_b6fc_525400c7b32arow14_col9{\n",
       "            color:  black;\n",
       "            font-weight:  350;\n",
       "        }</style><table id=\"T_b77a0576_6722_11eb_b6fc_525400c7b32a\" ><thead>    <tr>        <th class=\"blank level0\" ></th>        <th class=\"col_heading level0 col0\" >NMF_Topic_0</th>        <th class=\"col_heading level0 col1\" >NMF_Topic_1</th>        <th class=\"col_heading level0 col2\" >NMF_Topic_2</th>        <th class=\"col_heading level0 col3\" >NMF_Topic_3</th>        <th class=\"col_heading level0 col4\" >NMF_Topic_4</th>        <th class=\"col_heading level0 col5\" >NMF_Topic_5</th>        <th class=\"col_heading level0 col6\" >NMF_Topic_6</th>        <th class=\"col_heading level0 col7\" >NMF_Topic_7</th>        <th class=\"col_heading level0 col8\" >NMF_Topic_8</th>        <th class=\"col_heading level0 col9\" >NMF_Topic_9</th>        <th class=\"col_heading level0 col10\" >nmf_topic</th>    </tr></thead><tbody>\n",
       "                <tr>\n",
       "                        <th id=\"T_b77a0576_6722_11eb_b6fc_525400c7b32alevel0_row0\" class=\"row_heading level0 row0\" >Doc_0</th>\n",
       "                        <td id=\"T_b77a0576_6722_11eb_b6fc_525400c7b32arow0_col0\" class=\"data row0 col0\" >0.020000</td>\n",
       "                        <td id=\"T_b77a0576_6722_11eb_b6fc_525400c7b32arow0_col1\" class=\"data row0 col1\" >0.000000</td>\n",
       "                        <td id=\"T_b77a0576_6722_11eb_b6fc_525400c7b32arow0_col2\" class=\"data row0 col2\" >0.000000</td>\n",
       "                        <td id=\"T_b77a0576_6722_11eb_b6fc_525400c7b32arow0_col3\" class=\"data row0 col3\" >0.000000</td>\n",
       "                        <td id=\"T_b77a0576_6722_11eb_b6fc_525400c7b32arow0_col4\" class=\"data row0 col4\" >0.000000</td>\n",
       "                        <td id=\"T_b77a0576_6722_11eb_b6fc_525400c7b32arow0_col5\" class=\"data row0 col5\" >0.000000</td>\n",
       "                        <td id=\"T_b77a0576_6722_11eb_b6fc_525400c7b32arow0_col6\" class=\"data row0 col6\" >0.000000</td>\n",
       "                        <td id=\"T_b77a0576_6722_11eb_b6fc_525400c7b32arow0_col7\" class=\"data row0 col7\" >0.070000</td>\n",
       "                        <td id=\"T_b77a0576_6722_11eb_b6fc_525400c7b32arow0_col8\" class=\"data row0 col8\" >0.000000</td>\n",
       "                        <td id=\"T_b77a0576_6722_11eb_b6fc_525400c7b32arow0_col9\" class=\"data row0 col9\" >0.000000</td>\n",
       "                        <td id=\"T_b77a0576_6722_11eb_b6fc_525400c7b32arow0_col10\" class=\"data row0 col10\" >7</td>\n",
       "            </tr>\n",
       "            <tr>\n",
       "                        <th id=\"T_b77a0576_6722_11eb_b6fc_525400c7b32alevel0_row1\" class=\"row_heading level0 row1\" >Doc_1</th>\n",
       "                        <td id=\"T_b77a0576_6722_11eb_b6fc_525400c7b32arow1_col0\" class=\"data row1 col0\" >0.000000</td>\n",
       "                        <td id=\"T_b77a0576_6722_11eb_b6fc_525400c7b32arow1_col1\" class=\"data row1 col1\" >0.000000</td>\n",
       "                        <td id=\"T_b77a0576_6722_11eb_b6fc_525400c7b32arow1_col2\" class=\"data row1 col2\" >0.000000</td>\n",
       "                        <td id=\"T_b77a0576_6722_11eb_b6fc_525400c7b32arow1_col3\" class=\"data row1 col3\" >0.050000</td>\n",
       "                        <td id=\"T_b77a0576_6722_11eb_b6fc_525400c7b32arow1_col4\" class=\"data row1 col4\" >0.000000</td>\n",
       "                        <td id=\"T_b77a0576_6722_11eb_b6fc_525400c7b32arow1_col5\" class=\"data row1 col5\" >0.060000</td>\n",
       "                        <td id=\"T_b77a0576_6722_11eb_b6fc_525400c7b32arow1_col6\" class=\"data row1 col6\" >0.010000</td>\n",
       "                        <td id=\"T_b77a0576_6722_11eb_b6fc_525400c7b32arow1_col7\" class=\"data row1 col7\" >0.000000</td>\n",
       "                        <td id=\"T_b77a0576_6722_11eb_b6fc_525400c7b32arow1_col8\" class=\"data row1 col8\" >0.000000</td>\n",
       "                        <td id=\"T_b77a0576_6722_11eb_b6fc_525400c7b32arow1_col9\" class=\"data row1 col9\" >0.000000</td>\n",
       "                        <td id=\"T_b77a0576_6722_11eb_b6fc_525400c7b32arow1_col10\" class=\"data row1 col10\" >5</td>\n",
       "            </tr>\n",
       "            <tr>\n",
       "                        <th id=\"T_b77a0576_6722_11eb_b6fc_525400c7b32alevel0_row2\" class=\"row_heading level0 row2\" >Doc_2</th>\n",
       "                        <td id=\"T_b77a0576_6722_11eb_b6fc_525400c7b32arow2_col0\" class=\"data row2 col0\" >0.010000</td>\n",
       "                        <td id=\"T_b77a0576_6722_11eb_b6fc_525400c7b32arow2_col1\" class=\"data row2 col1\" >0.000000</td>\n",
       "                        <td id=\"T_b77a0576_6722_11eb_b6fc_525400c7b32arow2_col2\" class=\"data row2 col2\" >0.000000</td>\n",
       "                        <td id=\"T_b77a0576_6722_11eb_b6fc_525400c7b32arow2_col3\" class=\"data row2 col3\" >0.020000</td>\n",
       "                        <td id=\"T_b77a0576_6722_11eb_b6fc_525400c7b32arow2_col4\" class=\"data row2 col4\" >0.020000</td>\n",
       "                        <td id=\"T_b77a0576_6722_11eb_b6fc_525400c7b32arow2_col5\" class=\"data row2 col5\" >0.000000</td>\n",
       "                        <td id=\"T_b77a0576_6722_11eb_b6fc_525400c7b32arow2_col6\" class=\"data row2 col6\" >0.000000</td>\n",
       "                        <td id=\"T_b77a0576_6722_11eb_b6fc_525400c7b32arow2_col7\" class=\"data row2 col7\" >0.000000</td>\n",
       "                        <td id=\"T_b77a0576_6722_11eb_b6fc_525400c7b32arow2_col8\" class=\"data row2 col8\" >0.000000</td>\n",
       "                        <td id=\"T_b77a0576_6722_11eb_b6fc_525400c7b32arow2_col9\" class=\"data row2 col9\" >0.000000</td>\n",
       "                        <td id=\"T_b77a0576_6722_11eb_b6fc_525400c7b32arow2_col10\" class=\"data row2 col10\" >3</td>\n",
       "            </tr>\n",
       "            <tr>\n",
       "                        <th id=\"T_b77a0576_6722_11eb_b6fc_525400c7b32alevel0_row3\" class=\"row_heading level0 row3\" >Doc_3</th>\n",
       "                        <td id=\"T_b77a0576_6722_11eb_b6fc_525400c7b32arow3_col0\" class=\"data row3 col0\" >0.020000</td>\n",
       "                        <td id=\"T_b77a0576_6722_11eb_b6fc_525400c7b32arow3_col1\" class=\"data row3 col1\" >0.000000</td>\n",
       "                        <td id=\"T_b77a0576_6722_11eb_b6fc_525400c7b32arow3_col2\" class=\"data row3 col2\" >0.000000</td>\n",
       "                        <td id=\"T_b77a0576_6722_11eb_b6fc_525400c7b32arow3_col3\" class=\"data row3 col3\" >0.000000</td>\n",
       "                        <td id=\"T_b77a0576_6722_11eb_b6fc_525400c7b32arow3_col4\" class=\"data row3 col4\" >0.000000</td>\n",
       "                        <td id=\"T_b77a0576_6722_11eb_b6fc_525400c7b32arow3_col5\" class=\"data row3 col5\" >0.030000</td>\n",
       "                        <td id=\"T_b77a0576_6722_11eb_b6fc_525400c7b32arow3_col6\" class=\"data row3 col6\" >0.000000</td>\n",
       "                        <td id=\"T_b77a0576_6722_11eb_b6fc_525400c7b32arow3_col7\" class=\"data row3 col7\" >0.000000</td>\n",
       "                        <td id=\"T_b77a0576_6722_11eb_b6fc_525400c7b32arow3_col8\" class=\"data row3 col8\" >0.000000</td>\n",
       "                        <td id=\"T_b77a0576_6722_11eb_b6fc_525400c7b32arow3_col9\" class=\"data row3 col9\" >0.000000</td>\n",
       "                        <td id=\"T_b77a0576_6722_11eb_b6fc_525400c7b32arow3_col10\" class=\"data row3 col10\" >5</td>\n",
       "            </tr>\n",
       "            <tr>\n",
       "                        <th id=\"T_b77a0576_6722_11eb_b6fc_525400c7b32alevel0_row4\" class=\"row_heading level0 row4\" >Doc_4</th>\n",
       "                        <td id=\"T_b77a0576_6722_11eb_b6fc_525400c7b32arow4_col0\" class=\"data row4 col0\" >0.010000</td>\n",
       "                        <td id=\"T_b77a0576_6722_11eb_b6fc_525400c7b32arow4_col1\" class=\"data row4 col1\" >0.000000</td>\n",
       "                        <td id=\"T_b77a0576_6722_11eb_b6fc_525400c7b32arow4_col2\" class=\"data row4 col2\" >0.000000</td>\n",
       "                        <td id=\"T_b77a0576_6722_11eb_b6fc_525400c7b32arow4_col3\" class=\"data row4 col3\" >0.000000</td>\n",
       "                        <td id=\"T_b77a0576_6722_11eb_b6fc_525400c7b32arow4_col4\" class=\"data row4 col4\" >0.010000</td>\n",
       "                        <td id=\"T_b77a0576_6722_11eb_b6fc_525400c7b32arow4_col5\" class=\"data row4 col5\" >0.000000</td>\n",
       "                        <td id=\"T_b77a0576_6722_11eb_b6fc_525400c7b32arow4_col6\" class=\"data row4 col6\" >0.010000</td>\n",
       "                        <td id=\"T_b77a0576_6722_11eb_b6fc_525400c7b32arow4_col7\" class=\"data row4 col7\" >0.000000</td>\n",
       "                        <td id=\"T_b77a0576_6722_11eb_b6fc_525400c7b32arow4_col8\" class=\"data row4 col8\" >0.000000</td>\n",
       "                        <td id=\"T_b77a0576_6722_11eb_b6fc_525400c7b32arow4_col9\" class=\"data row4 col9\" >0.000000</td>\n",
       "                        <td id=\"T_b77a0576_6722_11eb_b6fc_525400c7b32arow4_col10\" class=\"data row4 col10\" >0</td>\n",
       "            </tr>\n",
       "            <tr>\n",
       "                        <th id=\"T_b77a0576_6722_11eb_b6fc_525400c7b32alevel0_row5\" class=\"row_heading level0 row5\" >Doc_5</th>\n",
       "                        <td id=\"T_b77a0576_6722_11eb_b6fc_525400c7b32arow5_col0\" class=\"data row5 col0\" >0.020000</td>\n",
       "                        <td id=\"T_b77a0576_6722_11eb_b6fc_525400c7b32arow5_col1\" class=\"data row5 col1\" >0.000000</td>\n",
       "                        <td id=\"T_b77a0576_6722_11eb_b6fc_525400c7b32arow5_col2\" class=\"data row5 col2\" >0.000000</td>\n",
       "                        <td id=\"T_b77a0576_6722_11eb_b6fc_525400c7b32arow5_col3\" class=\"data row5 col3\" >0.010000</td>\n",
       "                        <td id=\"T_b77a0576_6722_11eb_b6fc_525400c7b32arow5_col4\" class=\"data row5 col4\" >0.000000</td>\n",
       "                        <td id=\"T_b77a0576_6722_11eb_b6fc_525400c7b32arow5_col5\" class=\"data row5 col5\" >0.010000</td>\n",
       "                        <td id=\"T_b77a0576_6722_11eb_b6fc_525400c7b32arow5_col6\" class=\"data row5 col6\" >0.000000</td>\n",
       "                        <td id=\"T_b77a0576_6722_11eb_b6fc_525400c7b32arow5_col7\" class=\"data row5 col7\" >0.000000</td>\n",
       "                        <td id=\"T_b77a0576_6722_11eb_b6fc_525400c7b32arow5_col8\" class=\"data row5 col8\" >0.000000</td>\n",
       "                        <td id=\"T_b77a0576_6722_11eb_b6fc_525400c7b32arow5_col9\" class=\"data row5 col9\" >0.000000</td>\n",
       "                        <td id=\"T_b77a0576_6722_11eb_b6fc_525400c7b32arow5_col10\" class=\"data row5 col10\" >0</td>\n",
       "            </tr>\n",
       "            <tr>\n",
       "                        <th id=\"T_b77a0576_6722_11eb_b6fc_525400c7b32alevel0_row6\" class=\"row_heading level0 row6\" >Doc_6</th>\n",
       "                        <td id=\"T_b77a0576_6722_11eb_b6fc_525400c7b32arow6_col0\" class=\"data row6 col0\" >0.000000</td>\n",
       "                        <td id=\"T_b77a0576_6722_11eb_b6fc_525400c7b32arow6_col1\" class=\"data row6 col1\" >0.000000</td>\n",
       "                        <td id=\"T_b77a0576_6722_11eb_b6fc_525400c7b32arow6_col2\" class=\"data row6 col2\" >0.000000</td>\n",
       "                        <td id=\"T_b77a0576_6722_11eb_b6fc_525400c7b32arow6_col3\" class=\"data row6 col3\" >0.030000</td>\n",
       "                        <td id=\"T_b77a0576_6722_11eb_b6fc_525400c7b32arow6_col4\" class=\"data row6 col4\" >0.000000</td>\n",
       "                        <td id=\"T_b77a0576_6722_11eb_b6fc_525400c7b32arow6_col5\" class=\"data row6 col5\" >0.030000</td>\n",
       "                        <td id=\"T_b77a0576_6722_11eb_b6fc_525400c7b32arow6_col6\" class=\"data row6 col6\" >0.000000</td>\n",
       "                        <td id=\"T_b77a0576_6722_11eb_b6fc_525400c7b32arow6_col7\" class=\"data row6 col7\" >0.040000</td>\n",
       "                        <td id=\"T_b77a0576_6722_11eb_b6fc_525400c7b32arow6_col8\" class=\"data row6 col8\" >0.000000</td>\n",
       "                        <td id=\"T_b77a0576_6722_11eb_b6fc_525400c7b32arow6_col9\" class=\"data row6 col9\" >0.000000</td>\n",
       "                        <td id=\"T_b77a0576_6722_11eb_b6fc_525400c7b32arow6_col10\" class=\"data row6 col10\" >7</td>\n",
       "            </tr>\n",
       "            <tr>\n",
       "                        <th id=\"T_b77a0576_6722_11eb_b6fc_525400c7b32alevel0_row7\" class=\"row_heading level0 row7\" >Doc_7</th>\n",
       "                        <td id=\"T_b77a0576_6722_11eb_b6fc_525400c7b32arow7_col0\" class=\"data row7 col0\" >0.030000</td>\n",
       "                        <td id=\"T_b77a0576_6722_11eb_b6fc_525400c7b32arow7_col1\" class=\"data row7 col1\" >0.000000</td>\n",
       "                        <td id=\"T_b77a0576_6722_11eb_b6fc_525400c7b32arow7_col2\" class=\"data row7 col2\" >0.000000</td>\n",
       "                        <td id=\"T_b77a0576_6722_11eb_b6fc_525400c7b32arow7_col3\" class=\"data row7 col3\" >0.010000</td>\n",
       "                        <td id=\"T_b77a0576_6722_11eb_b6fc_525400c7b32arow7_col4\" class=\"data row7 col4\" >0.000000</td>\n",
       "                        <td id=\"T_b77a0576_6722_11eb_b6fc_525400c7b32arow7_col5\" class=\"data row7 col5\" >0.000000</td>\n",
       "                        <td id=\"T_b77a0576_6722_11eb_b6fc_525400c7b32arow7_col6\" class=\"data row7 col6\" >0.000000</td>\n",
       "                        <td id=\"T_b77a0576_6722_11eb_b6fc_525400c7b32arow7_col7\" class=\"data row7 col7\" >0.020000</td>\n",
       "                        <td id=\"T_b77a0576_6722_11eb_b6fc_525400c7b32arow7_col8\" class=\"data row7 col8\" >0.000000</td>\n",
       "                        <td id=\"T_b77a0576_6722_11eb_b6fc_525400c7b32arow7_col9\" class=\"data row7 col9\" >0.000000</td>\n",
       "                        <td id=\"T_b77a0576_6722_11eb_b6fc_525400c7b32arow7_col10\" class=\"data row7 col10\" >0</td>\n",
       "            </tr>\n",
       "            <tr>\n",
       "                        <th id=\"T_b77a0576_6722_11eb_b6fc_525400c7b32alevel0_row8\" class=\"row_heading level0 row8\" >Doc_8</th>\n",
       "                        <td id=\"T_b77a0576_6722_11eb_b6fc_525400c7b32arow8_col0\" class=\"data row8 col0\" >0.010000</td>\n",
       "                        <td id=\"T_b77a0576_6722_11eb_b6fc_525400c7b32arow8_col1\" class=\"data row8 col1\" >0.000000</td>\n",
       "                        <td id=\"T_b77a0576_6722_11eb_b6fc_525400c7b32arow8_col2\" class=\"data row8 col2\" >0.000000</td>\n",
       "                        <td id=\"T_b77a0576_6722_11eb_b6fc_525400c7b32arow8_col3\" class=\"data row8 col3\" >0.000000</td>\n",
       "                        <td id=\"T_b77a0576_6722_11eb_b6fc_525400c7b32arow8_col4\" class=\"data row8 col4\" >0.030000</td>\n",
       "                        <td id=\"T_b77a0576_6722_11eb_b6fc_525400c7b32arow8_col5\" class=\"data row8 col5\" >0.000000</td>\n",
       "                        <td id=\"T_b77a0576_6722_11eb_b6fc_525400c7b32arow8_col6\" class=\"data row8 col6\" >0.000000</td>\n",
       "                        <td id=\"T_b77a0576_6722_11eb_b6fc_525400c7b32arow8_col7\" class=\"data row8 col7\" >0.000000</td>\n",
       "                        <td id=\"T_b77a0576_6722_11eb_b6fc_525400c7b32arow8_col8\" class=\"data row8 col8\" >0.000000</td>\n",
       "                        <td id=\"T_b77a0576_6722_11eb_b6fc_525400c7b32arow8_col9\" class=\"data row8 col9\" >0.010000</td>\n",
       "                        <td id=\"T_b77a0576_6722_11eb_b6fc_525400c7b32arow8_col10\" class=\"data row8 col10\" >4</td>\n",
       "            </tr>\n",
       "            <tr>\n",
       "                        <th id=\"T_b77a0576_6722_11eb_b6fc_525400c7b32alevel0_row9\" class=\"row_heading level0 row9\" >Doc_9</th>\n",
       "                        <td id=\"T_b77a0576_6722_11eb_b6fc_525400c7b32arow9_col0\" class=\"data row9 col0\" >0.020000</td>\n",
       "                        <td id=\"T_b77a0576_6722_11eb_b6fc_525400c7b32arow9_col1\" class=\"data row9 col1\" >0.000000</td>\n",
       "                        <td id=\"T_b77a0576_6722_11eb_b6fc_525400c7b32arow9_col2\" class=\"data row9 col2\" >0.000000</td>\n",
       "                        <td id=\"T_b77a0576_6722_11eb_b6fc_525400c7b32arow9_col3\" class=\"data row9 col3\" >0.000000</td>\n",
       "                        <td id=\"T_b77a0576_6722_11eb_b6fc_525400c7b32arow9_col4\" class=\"data row9 col4\" >0.000000</td>\n",
       "                        <td id=\"T_b77a0576_6722_11eb_b6fc_525400c7b32arow9_col5\" class=\"data row9 col5\" >0.000000</td>\n",
       "                        <td id=\"T_b77a0576_6722_11eb_b6fc_525400c7b32arow9_col6\" class=\"data row9 col6\" >0.000000</td>\n",
       "                        <td id=\"T_b77a0576_6722_11eb_b6fc_525400c7b32arow9_col7\" class=\"data row9 col7\" >0.080000</td>\n",
       "                        <td id=\"T_b77a0576_6722_11eb_b6fc_525400c7b32arow9_col8\" class=\"data row9 col8\" >0.000000</td>\n",
       "                        <td id=\"T_b77a0576_6722_11eb_b6fc_525400c7b32arow9_col9\" class=\"data row9 col9\" >0.000000</td>\n",
       "                        <td id=\"T_b77a0576_6722_11eb_b6fc_525400c7b32arow9_col10\" class=\"data row9 col10\" >7</td>\n",
       "            </tr>\n",
       "            <tr>\n",
       "                        <th id=\"T_b77a0576_6722_11eb_b6fc_525400c7b32alevel0_row10\" class=\"row_heading level0 row10\" >Doc_10</th>\n",
       "                        <td id=\"T_b77a0576_6722_11eb_b6fc_525400c7b32arow10_col0\" class=\"data row10 col0\" >0.020000</td>\n",
       "                        <td id=\"T_b77a0576_6722_11eb_b6fc_525400c7b32arow10_col1\" class=\"data row10 col1\" >0.000000</td>\n",
       "                        <td id=\"T_b77a0576_6722_11eb_b6fc_525400c7b32arow10_col2\" class=\"data row10 col2\" >0.000000</td>\n",
       "                        <td id=\"T_b77a0576_6722_11eb_b6fc_525400c7b32arow10_col3\" class=\"data row10 col3\" >0.000000</td>\n",
       "                        <td id=\"T_b77a0576_6722_11eb_b6fc_525400c7b32arow10_col4\" class=\"data row10 col4\" >0.000000</td>\n",
       "                        <td id=\"T_b77a0576_6722_11eb_b6fc_525400c7b32arow10_col5\" class=\"data row10 col5\" >0.000000</td>\n",
       "                        <td id=\"T_b77a0576_6722_11eb_b6fc_525400c7b32arow10_col6\" class=\"data row10 col6\" >0.000000</td>\n",
       "                        <td id=\"T_b77a0576_6722_11eb_b6fc_525400c7b32arow10_col7\" class=\"data row10 col7\" >0.000000</td>\n",
       "                        <td id=\"T_b77a0576_6722_11eb_b6fc_525400c7b32arow10_col8\" class=\"data row10 col8\" >0.030000</td>\n",
       "                        <td id=\"T_b77a0576_6722_11eb_b6fc_525400c7b32arow10_col9\" class=\"data row10 col9\" >0.010000</td>\n",
       "                        <td id=\"T_b77a0576_6722_11eb_b6fc_525400c7b32arow10_col10\" class=\"data row10 col10\" >8</td>\n",
       "            </tr>\n",
       "            <tr>\n",
       "                        <th id=\"T_b77a0576_6722_11eb_b6fc_525400c7b32alevel0_row11\" class=\"row_heading level0 row11\" >Doc_11</th>\n",
       "                        <td id=\"T_b77a0576_6722_11eb_b6fc_525400c7b32arow11_col0\" class=\"data row11 col0\" >0.020000</td>\n",
       "                        <td id=\"T_b77a0576_6722_11eb_b6fc_525400c7b32arow11_col1\" class=\"data row11 col1\" >0.010000</td>\n",
       "                        <td id=\"T_b77a0576_6722_11eb_b6fc_525400c7b32arow11_col2\" class=\"data row11 col2\" >0.000000</td>\n",
       "                        <td id=\"T_b77a0576_6722_11eb_b6fc_525400c7b32arow11_col3\" class=\"data row11 col3\" >0.050000</td>\n",
       "                        <td id=\"T_b77a0576_6722_11eb_b6fc_525400c7b32arow11_col4\" class=\"data row11 col4\" >0.000000</td>\n",
       "                        <td id=\"T_b77a0576_6722_11eb_b6fc_525400c7b32arow11_col5\" class=\"data row11 col5\" >0.000000</td>\n",
       "                        <td id=\"T_b77a0576_6722_11eb_b6fc_525400c7b32arow11_col6\" class=\"data row11 col6\" >0.010000</td>\n",
       "                        <td id=\"T_b77a0576_6722_11eb_b6fc_525400c7b32arow11_col7\" class=\"data row11 col7\" >0.000000</td>\n",
       "                        <td id=\"T_b77a0576_6722_11eb_b6fc_525400c7b32arow11_col8\" class=\"data row11 col8\" >0.000000</td>\n",
       "                        <td id=\"T_b77a0576_6722_11eb_b6fc_525400c7b32arow11_col9\" class=\"data row11 col9\" >0.000000</td>\n",
       "                        <td id=\"T_b77a0576_6722_11eb_b6fc_525400c7b32arow11_col10\" class=\"data row11 col10\" >3</td>\n",
       "            </tr>\n",
       "            <tr>\n",
       "                        <th id=\"T_b77a0576_6722_11eb_b6fc_525400c7b32alevel0_row12\" class=\"row_heading level0 row12\" >Doc_12</th>\n",
       "                        <td id=\"T_b77a0576_6722_11eb_b6fc_525400c7b32arow12_col0\" class=\"data row12 col0\" >0.010000</td>\n",
       "                        <td id=\"T_b77a0576_6722_11eb_b6fc_525400c7b32arow12_col1\" class=\"data row12 col1\" >0.000000</td>\n",
       "                        <td id=\"T_b77a0576_6722_11eb_b6fc_525400c7b32arow12_col2\" class=\"data row12 col2\" >0.020000</td>\n",
       "                        <td id=\"T_b77a0576_6722_11eb_b6fc_525400c7b32arow12_col3\" class=\"data row12 col3\" >0.000000</td>\n",
       "                        <td id=\"T_b77a0576_6722_11eb_b6fc_525400c7b32arow12_col4\" class=\"data row12 col4\" >0.000000</td>\n",
       "                        <td id=\"T_b77a0576_6722_11eb_b6fc_525400c7b32arow12_col5\" class=\"data row12 col5\" >0.050000</td>\n",
       "                        <td id=\"T_b77a0576_6722_11eb_b6fc_525400c7b32arow12_col6\" class=\"data row12 col6\" >0.000000</td>\n",
       "                        <td id=\"T_b77a0576_6722_11eb_b6fc_525400c7b32arow12_col7\" class=\"data row12 col7\" >0.010000</td>\n",
       "                        <td id=\"T_b77a0576_6722_11eb_b6fc_525400c7b32arow12_col8\" class=\"data row12 col8\" >0.010000</td>\n",
       "                        <td id=\"T_b77a0576_6722_11eb_b6fc_525400c7b32arow12_col9\" class=\"data row12 col9\" >0.020000</td>\n",
       "                        <td id=\"T_b77a0576_6722_11eb_b6fc_525400c7b32arow12_col10\" class=\"data row12 col10\" >5</td>\n",
       "            </tr>\n",
       "            <tr>\n",
       "                        <th id=\"T_b77a0576_6722_11eb_b6fc_525400c7b32alevel0_row13\" class=\"row_heading level0 row13\" >Doc_13</th>\n",
       "                        <td id=\"T_b77a0576_6722_11eb_b6fc_525400c7b32arow13_col0\" class=\"data row13 col0\" >0.030000</td>\n",
       "                        <td id=\"T_b77a0576_6722_11eb_b6fc_525400c7b32arow13_col1\" class=\"data row13 col1\" >0.020000</td>\n",
       "                        <td id=\"T_b77a0576_6722_11eb_b6fc_525400c7b32arow13_col2\" class=\"data row13 col2\" >0.000000</td>\n",
       "                        <td id=\"T_b77a0576_6722_11eb_b6fc_525400c7b32arow13_col3\" class=\"data row13 col3\" >0.000000</td>\n",
       "                        <td id=\"T_b77a0576_6722_11eb_b6fc_525400c7b32arow13_col4\" class=\"data row13 col4\" >0.000000</td>\n",
       "                        <td id=\"T_b77a0576_6722_11eb_b6fc_525400c7b32arow13_col5\" class=\"data row13 col5\" >0.000000</td>\n",
       "                        <td id=\"T_b77a0576_6722_11eb_b6fc_525400c7b32arow13_col6\" class=\"data row13 col6\" >0.000000</td>\n",
       "                        <td id=\"T_b77a0576_6722_11eb_b6fc_525400c7b32arow13_col7\" class=\"data row13 col7\" >0.000000</td>\n",
       "                        <td id=\"T_b77a0576_6722_11eb_b6fc_525400c7b32arow13_col8\" class=\"data row13 col8\" >0.000000</td>\n",
       "                        <td id=\"T_b77a0576_6722_11eb_b6fc_525400c7b32arow13_col9\" class=\"data row13 col9\" >0.000000</td>\n",
       "                        <td id=\"T_b77a0576_6722_11eb_b6fc_525400c7b32arow13_col10\" class=\"data row13 col10\" >0</td>\n",
       "            </tr>\n",
       "            <tr>\n",
       "                        <th id=\"T_b77a0576_6722_11eb_b6fc_525400c7b32alevel0_row14\" class=\"row_heading level0 row14\" >Doc_14</th>\n",
       "                        <td id=\"T_b77a0576_6722_11eb_b6fc_525400c7b32arow14_col0\" class=\"data row14 col0\" >0.000000</td>\n",
       "                        <td id=\"T_b77a0576_6722_11eb_b6fc_525400c7b32arow14_col1\" class=\"data row14 col1\" >0.000000</td>\n",
       "                        <td id=\"T_b77a0576_6722_11eb_b6fc_525400c7b32arow14_col2\" class=\"data row14 col2\" >0.090000</td>\n",
       "                        <td id=\"T_b77a0576_6722_11eb_b6fc_525400c7b32arow14_col3\" class=\"data row14 col3\" >0.000000</td>\n",
       "                        <td id=\"T_b77a0576_6722_11eb_b6fc_525400c7b32arow14_col4\" class=\"data row14 col4\" >0.000000</td>\n",
       "                        <td id=\"T_b77a0576_6722_11eb_b6fc_525400c7b32arow14_col5\" class=\"data row14 col5\" >0.020000</td>\n",
       "                        <td id=\"T_b77a0576_6722_11eb_b6fc_525400c7b32arow14_col6\" class=\"data row14 col6\" >0.000000</td>\n",
       "                        <td id=\"T_b77a0576_6722_11eb_b6fc_525400c7b32arow14_col7\" class=\"data row14 col7\" >0.010000</td>\n",
       "                        <td id=\"T_b77a0576_6722_11eb_b6fc_525400c7b32arow14_col8\" class=\"data row14 col8\" >0.020000</td>\n",
       "                        <td id=\"T_b77a0576_6722_11eb_b6fc_525400c7b32arow14_col9\" class=\"data row14 col9\" >0.000000</td>\n",
       "                        <td id=\"T_b77a0576_6722_11eb_b6fc_525400c7b32arow14_col10\" class=\"data row14 col10\" >2</td>\n",
       "            </tr>\n",
       "    </tbody></table>"
      ],
      "text/plain": [
       "<pandas.io.formats.style.Styler at 0x17f22224848>"
      ]
     },
     "execution_count": 74,
     "metadata": {},
     "output_type": "execute_result"
    }
   ],
   "source": [
    "# Show data frame with dominant topic columns\n",
    "NMF_df_dominant_topics"
   ]
  },
  {
   "cell_type": "code",
   "execution_count": 75,
   "metadata": {},
   "outputs": [
    {
     "data": {
      "text/html": [
       "<div>\n",
       "<style scoped>\n",
       "    .dataframe tbody tr th:only-of-type {\n",
       "        vertical-align: middle;\n",
       "    }\n",
       "\n",
       "    .dataframe tbody tr th {\n",
       "        vertical-align: top;\n",
       "    }\n",
       "\n",
       "    .dataframe thead th {\n",
       "        text-align: right;\n",
       "    }\n",
       "</style>\n",
       "<table border=\"1\" class=\"dataframe\">\n",
       "  <thead>\n",
       "    <tr style=\"text-align: right;\">\n",
       "      <th></th>\n",
       "      <th>NMF Topic Number</th>\n",
       "      <th>Number of Documents</th>\n",
       "    </tr>\n",
       "  </thead>\n",
       "  <tbody>\n",
       "    <tr>\n",
       "      <th>0</th>\n",
       "      <td>0</td>\n",
       "      <td>2809</td>\n",
       "    </tr>\n",
       "    <tr>\n",
       "      <th>1</th>\n",
       "      <td>4</td>\n",
       "      <td>1136</td>\n",
       "    </tr>\n",
       "    <tr>\n",
       "      <th>2</th>\n",
       "      <td>5</td>\n",
       "      <td>928</td>\n",
       "    </tr>\n",
       "    <tr>\n",
       "      <th>3</th>\n",
       "      <td>3</td>\n",
       "      <td>735</td>\n",
       "    </tr>\n",
       "    <tr>\n",
       "      <th>4</th>\n",
       "      <td>1</td>\n",
       "      <td>671</td>\n",
       "    </tr>\n",
       "    <tr>\n",
       "      <th>5</th>\n",
       "      <td>6</td>\n",
       "      <td>379</td>\n",
       "    </tr>\n",
       "    <tr>\n",
       "      <th>6</th>\n",
       "      <td>7</td>\n",
       "      <td>356</td>\n",
       "    </tr>\n",
       "    <tr>\n",
       "      <th>7</th>\n",
       "      <td>8</td>\n",
       "      <td>328</td>\n",
       "    </tr>\n",
       "    <tr>\n",
       "      <th>8</th>\n",
       "      <td>9</td>\n",
       "      <td>282</td>\n",
       "    </tr>\n",
       "    <tr>\n",
       "      <th>9</th>\n",
       "      <td>2</td>\n",
       "      <td>275</td>\n",
       "    </tr>\n",
       "  </tbody>\n",
       "</table>\n",
       "</div>"
      ],
      "text/plain": [
       "   NMF Topic Number  Number of Documents\n",
       "0                 0                 2809\n",
       "1                 4                 1136\n",
       "2                 5                  928\n",
       "3                 3                  735\n",
       "4                 1                  671\n",
       "5                 6                  379\n",
       "6                 7                  356\n",
       "7                 8                  328\n",
       "8                 9                  282\n",
       "9                 2                  275"
      ]
     },
     "execution_count": 75,
     "metadata": {},
     "output_type": "execute_result"
    }
   ],
   "source": [
    "df_nmf_topic_distribution = nmf_topics_df['nmf_topic'].value_counts().reset_index(name=\"Number of Documents\")\n",
    "df_nmf_topic_distribution.columns = ['NMF Topic Number', 'Number of Documents']\n",
    "df_nmf_topic_distribution"
   ]
  },
  {
   "cell_type": "code",
   "execution_count": 76,
   "metadata": {},
   "outputs": [],
   "source": [
    "# Function to show top n keywords for each topic:\n",
    "def show_topics(model, features, words):\n",
    "    keywords = np.array(features)\n",
    "    topic_keywords = []\n",
    "    for topic_weights in model.components_:\n",
    "        top_keyword_locs = (-topic_weights).argsort()[:words]\n",
    "        topic_keywords.append(keywords.take(top_keyword_locs))\n",
    "    return topic_keywords"
   ]
  },
  {
   "cell_type": "code",
   "execution_count": 77,
   "metadata": {},
   "outputs": [
    {
     "data": {
      "text/html": [
       "<div>\n",
       "<style scoped>\n",
       "    .dataframe tbody tr th:only-of-type {\n",
       "        vertical-align: middle;\n",
       "    }\n",
       "\n",
       "    .dataframe tbody tr th {\n",
       "        vertical-align: top;\n",
       "    }\n",
       "\n",
       "    .dataframe thead th {\n",
       "        text-align: right;\n",
       "    }\n",
       "</style>\n",
       "<table border=\"1\" class=\"dataframe\">\n",
       "  <thead>\n",
       "    <tr style=\"text-align: right;\">\n",
       "      <th></th>\n",
       "      <th>Keyword_0</th>\n",
       "      <th>Keyword_1</th>\n",
       "      <th>Keyword_2</th>\n",
       "      <th>Keyword_3</th>\n",
       "      <th>Keyword_4</th>\n",
       "      <th>Keyword_5</th>\n",
       "      <th>Keyword_6</th>\n",
       "      <th>Keyword_7</th>\n",
       "      <th>Keyword_8</th>\n",
       "      <th>Keyword_9</th>\n",
       "    </tr>\n",
       "  </thead>\n",
       "  <tbody>\n",
       "    <tr>\n",
       "      <th>NMF_Topic_0</th>\n",
       "      <td>eat</td>\n",
       "      <td>disorder</td>\n",
       "      <td>eating</td>\n",
       "      <td>symptom</td>\n",
       "      <td>self</td>\n",
       "      <td>score</td>\n",
       "      <td>high</td>\n",
       "      <td>factor</td>\n",
       "      <td>risk</td>\n",
       "      <td>sample</td>\n",
       "    </tr>\n",
       "    <tr>\n",
       "      <th>NMF_Topic_1</th>\n",
       "      <td>body</td>\n",
       "      <td>image</td>\n",
       "      <td>dissatisfaction</td>\n",
       "      <td>size</td>\n",
       "      <td>disturbance</td>\n",
       "      <td>ideal</td>\n",
       "      <td>esteem</td>\n",
       "      <td>girl</td>\n",
       "      <td>appearance</td>\n",
       "      <td>self</td>\n",
       "    </tr>\n",
       "    <tr>\n",
       "      <th>NMF_Topic_2</th>\n",
       "      <td>bed</td>\n",
       "      <td>obese</td>\n",
       "      <td>binge</td>\n",
       "      <td>individual</td>\n",
       "      <td>disorder</td>\n",
       "      <td>obesity</td>\n",
       "      <td>criterion</td>\n",
       "      <td>subject</td>\n",
       "      <td>psychopathology</td>\n",
       "      <td>diagnostic</td>\n",
       "    </tr>\n",
       "    <tr>\n",
       "      <th>NMF_Topic_3</th>\n",
       "      <td>weight</td>\n",
       "      <td>loss</td>\n",
       "      <td>bmi</td>\n",
       "      <td>overweight</td>\n",
       "      <td>gain</td>\n",
       "      <td>obese</td>\n",
       "      <td>obesity</td>\n",
       "      <td>normal</td>\n",
       "      <td>control</td>\n",
       "      <td>diet</td>\n",
       "    </tr>\n",
       "    <tr>\n",
       "      <th>NMF_Topic_4</th>\n",
       "      <td>patient</td>\n",
       "      <td>nervosa</td>\n",
       "      <td>anorexia</td>\n",
       "      <td>bulimia</td>\n",
       "      <td>case</td>\n",
       "      <td>disorder</td>\n",
       "      <td>group</td>\n",
       "      <td>clinical</td>\n",
       "      <td>bulimic</td>\n",
       "      <td>present</td>\n",
       "    </tr>\n",
       "    <tr>\n",
       "      <th>NMF_Topic_5</th>\n",
       "      <td>treatment</td>\n",
       "      <td>outcome</td>\n",
       "      <td>therapy</td>\n",
       "      <td>cbt</td>\n",
       "      <td>intervention</td>\n",
       "      <td>change</td>\n",
       "      <td>program</td>\n",
       "      <td>follow</td>\n",
       "      <td>improvement</td>\n",
       "      <td>fbt</td>\n",
       "    </tr>\n",
       "    <tr>\n",
       "      <th>NMF_Topic_6</th>\n",
       "      <td>child</td>\n",
       "      <td>family</td>\n",
       "      <td>parent</td>\n",
       "      <td>mother</td>\n",
       "      <td>adolescent</td>\n",
       "      <td>parental</td>\n",
       "      <td>maternal</td>\n",
       "      <td>girl</td>\n",
       "      <td>fbt</td>\n",
       "      <td>father</td>\n",
       "    </tr>\n",
       "    <tr>\n",
       "      <th>NMF_Topic_7</th>\n",
       "      <td>binge</td>\n",
       "      <td>eating</td>\n",
       "      <td>episode</td>\n",
       "      <td>eat</td>\n",
       "      <td>purge</td>\n",
       "      <td>food</td>\n",
       "      <td>frequency</td>\n",
       "      <td>eater</td>\n",
       "      <td>behavior</td>\n",
       "      <td>report</td>\n",
       "    </tr>\n",
       "    <tr>\n",
       "      <th>NMF_Topic_8</th>\n",
       "      <td>woman</td>\n",
       "      <td>man</td>\n",
       "      <td>bulimic</td>\n",
       "      <td>group</td>\n",
       "      <td>bulimia</td>\n",
       "      <td>report</td>\n",
       "      <td>black</td>\n",
       "      <td>white</td>\n",
       "      <td>pregnancy</td>\n",
       "      <td>young</td>\n",
       "    </tr>\n",
       "    <tr>\n",
       "      <th>NMF_Topic_9</th>\n",
       "      <td>bn</td>\n",
       "      <td>ednos</td>\n",
       "      <td>bulimia</td>\n",
       "      <td>nervosa</td>\n",
       "      <td>pd</td>\n",
       "      <td>lifetime</td>\n",
       "      <td>disorder</td>\n",
       "      <td>purge</td>\n",
       "      <td>rate</td>\n",
       "      <td>compare</td>\n",
       "    </tr>\n",
       "  </tbody>\n",
       "</table>\n",
       "</div>"
      ],
      "text/plain": [
       "             Keyword_0 Keyword_1        Keyword_2   Keyword_3     Keyword_4  \\\n",
       "NMF_Topic_0        eat  disorder           eating     symptom          self   \n",
       "NMF_Topic_1       body     image  dissatisfaction        size   disturbance   \n",
       "NMF_Topic_2        bed     obese            binge  individual      disorder   \n",
       "NMF_Topic_3     weight      loss              bmi  overweight          gain   \n",
       "NMF_Topic_4    patient   nervosa         anorexia     bulimia          case   \n",
       "NMF_Topic_5  treatment   outcome          therapy         cbt  intervention   \n",
       "NMF_Topic_6      child    family           parent      mother    adolescent   \n",
       "NMF_Topic_7      binge    eating          episode         eat         purge   \n",
       "NMF_Topic_8      woman       man          bulimic       group       bulimia   \n",
       "NMF_Topic_9         bn     ednos          bulimia     nervosa            pd   \n",
       "\n",
       "            Keyword_5  Keyword_6 Keyword_7        Keyword_8   Keyword_9  \n",
       "NMF_Topic_0     score       high    factor             risk      sample  \n",
       "NMF_Topic_1     ideal     esteem      girl       appearance        self  \n",
       "NMF_Topic_2   obesity  criterion   subject  psychopathology  diagnostic  \n",
       "NMF_Topic_3     obese    obesity    normal          control        diet  \n",
       "NMF_Topic_4  disorder      group  clinical          bulimic     present  \n",
       "NMF_Topic_5    change    program    follow      improvement         fbt  \n",
       "NMF_Topic_6  parental   maternal      girl              fbt      father  \n",
       "NMF_Topic_7      food  frequency     eater         behavior      report  \n",
       "NMF_Topic_8    report      black     white        pregnancy       young  \n",
       "NMF_Topic_9  lifetime   disorder     purge             rate     compare  "
      ]
     },
     "execution_count": 77,
     "metadata": {},
     "output_type": "execute_result"
    }
   ],
   "source": [
    "nmf_topic_keywords = show_topics(nmf_fit, tfidf_feature_names, 10)\n",
    "\n",
    "# NMF Topic-Keywords Dataframe\n",
    "df_nmf_topic_keywords = pd.DataFrame(nmf_topic_keywords)\n",
    "df_nmf_topic_keywords.columns = ['Keyword_'+str(i) for i in range(df_nmf_topic_keywords.shape[1])]\n",
    "df_nmf_topic_keywords.index = ['NMF_Topic_'+str(i) for i in range(df_nmf_topic_keywords.shape[0])]\n",
    "df_nmf_topic_keywords"
   ]
  },
  {
   "cell_type": "markdown",
   "metadata": {},
   "source": [
    "TOPIC EVOLUTION OVER TIME (TRENDS)"
   ]
  },
  {
   "cell_type": "code",
   "execution_count": 79,
   "metadata": {},
   "outputs": [],
   "source": [
    "nmf_topics_df['Timestamp'] = pd.to_datetime(df['Year'].values, format='%Y') #%Y%m%d%H%M%S"
   ]
  },
  {
   "cell_type": "code",
   "execution_count": 80,
   "metadata": {},
   "outputs": [
    {
     "name": "stdout",
     "output_type": "stream",
     "text": [
      "<class 'pandas.core.frame.DataFrame'>\n",
      "Index: 7899 entries, Doc_0 to Doc_7898\n",
      "Data columns (total 12 columns):\n",
      " #   Column       Non-Null Count  Dtype         \n",
      "---  ------       --------------  -----         \n",
      " 0   NMF_Topic_0  7899 non-null   float64       \n",
      " 1   NMF_Topic_1  7899 non-null   float64       \n",
      " 2   NMF_Topic_2  7899 non-null   float64       \n",
      " 3   NMF_Topic_3  7899 non-null   float64       \n",
      " 4   NMF_Topic_4  7899 non-null   float64       \n",
      " 5   NMF_Topic_5  7899 non-null   float64       \n",
      " 6   NMF_Topic_6  7899 non-null   float64       \n",
      " 7   NMF_Topic_7  7899 non-null   float64       \n",
      " 8   NMF_Topic_8  7899 non-null   float64       \n",
      " 9   NMF_Topic_9  7899 non-null   float64       \n",
      " 10  nmf_topic    7899 non-null   int64         \n",
      " 11  Timestamp    7899 non-null   datetime64[ns]\n",
      "dtypes: datetime64[ns](1), float64(10), int64(1)\n",
      "memory usage: 802.2+ KB\n"
     ]
    }
   ],
   "source": [
    "nmf_topics_df.info()"
   ]
  },
  {
   "cell_type": "code",
   "execution_count": 81,
   "metadata": {},
   "outputs": [
    {
     "data": {
      "text/plain": [
       "(Timestamp('1981-01-01 00:00:00'), Timestamp('2020-01-01 00:00:00'))"
      ]
     },
     "execution_count": 81,
     "metadata": {},
     "output_type": "execute_result"
    }
   ],
   "source": [
    "nmf_topics_df['Timestamp'].min(), nmf_topics_df['Timestamp'].max()"
   ]
  },
  {
   "cell_type": "code",
   "execution_count": 82,
   "metadata": {},
   "outputs": [],
   "source": [
    "nmf_topics_df = nmf_topics_df.sort_values('Timestamp')"
   ]
  },
  {
   "cell_type": "code",
   "execution_count": 83,
   "metadata": {},
   "outputs": [
    {
     "data": {
      "text/plain": [
       "NMF_Topic_0    0\n",
       "NMF_Topic_1    0\n",
       "NMF_Topic_2    0\n",
       "NMF_Topic_3    0\n",
       "NMF_Topic_4    0\n",
       "NMF_Topic_5    0\n",
       "NMF_Topic_6    0\n",
       "NMF_Topic_7    0\n",
       "NMF_Topic_8    0\n",
       "NMF_Topic_9    0\n",
       "nmf_topic      0\n",
       "Timestamp      0\n",
       "dtype: int64"
      ]
     },
     "execution_count": 83,
     "metadata": {},
     "output_type": "execute_result"
    }
   ],
   "source": [
    "nmf_topics_df.isnull().sum()"
   ]
  },
  {
   "cell_type": "code",
   "execution_count": 84,
   "metadata": {},
   "outputs": [],
   "source": [
    "# Dataframe topics names list\n",
    "df_topic_names = ['topic_' + str(i) + '_df' for i in range(k)]\n",
    "\n",
    "for i in range(k):\n",
    "    df_topic_names[i] = nmf_topics_df.groupby('Timestamp')[nmf_topic_names[i]].sum().reset_index()\n",
    "    df_topic_names[i] = df_topic_names[i].set_index('Timestamp')"
   ]
  },
  {
   "cell_type": "code",
   "execution_count": 85,
   "metadata": {},
   "outputs": [],
   "source": [
    "y_list = ['y' + str(i) for i in range(k)]\n",
    "for i in range(k):\n",
    "    y_list[i] = df_topic_names[i][nmf_topic_names[i]]"
   ]
  },
  {
   "cell_type": "code",
   "execution_count": 86,
   "metadata": {},
   "outputs": [
    {
     "data": {
      "image/png": "[encoded data removed]",
      "text/plain": [
       "<Figure size 1080x432 with 1 Axes>"
      ]
     },
     "metadata": {},
     "output_type": "display_data"
    }
   ],
   "source": [
    "# Plot style\n",
    "plt.style.use('fivethirtyeight')\n",
    "for i in range(k):\n",
    "    topic_label = 'Topic ' + str(i)\n",
    "    y_list[i].plot(figsize=(15, 6), label=topic_label)\n",
    "plt.legend()\n",
    "# Show plot\n",
    "plt.savefig('eating_disorders_literature_topic_trends.tiff', format=\"tiff\", dpi=300)\n",
    "plt.show()"
   ]
  }
 ],
 "metadata": {
  "kernelspec": {
   "display_name": "Python 3",
   "language": "python",
   "name": "python3"
  },
  "language_info": {
   "codemirror_mode": {
    "name": "ipython",
    "version": 3
   },
   "file_extension": ".py",
   "mimetype": "text/x-python",
   "name": "python",
   "nbconvert_exporter": "python",
   "pygments_lexer": "ipython3",
   "version": "3.7.6"
  }
 },
 "nbformat": 4,
 "nbformat_minor": 4
}
